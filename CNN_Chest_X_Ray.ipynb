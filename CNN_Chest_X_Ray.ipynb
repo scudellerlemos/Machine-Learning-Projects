{
  "nbformat": 4,
  "nbformat_minor": 0,
  "metadata": {
    "colab": {
      "provenance": [],
      "authorship_tag": "ABX9TyMdhG3GJf/9wf2HsdBSY/O7",
      "include_colab_link": true
    },
    "kernelspec": {
      "name": "python3",
      "display_name": "Python 3"
    },
    "language_info": {
      "name": "python"
    }
  },
  "cells": [
    {
      "cell_type": "markdown",
      "metadata": {
        "id": "view-in-github",
        "colab_type": "text"
      },
      "source": [
        "<a href=\"https://colab.research.google.com/github/scudellerlemos/Machine-Learning-Projects/blob/Deep-Learning-(CNN)/CNN_Chest_X_Ray.ipynb\" target=\"_parent\"><img src=\"https://colab.research.google.com/assets/colab-badge.svg\" alt=\"Open In Colab\"/></a>"
      ]
    },
    {
      "cell_type": "markdown",
      "source": [
        "#Instruções"
      ],
      "metadata": {
        "id": "53QBKhs2X0CI"
      }
    },
    {
      "cell_type": "markdown",
      "source": [
        "O dataset utilizado para as fotos dos ferimentos/pintas se encontra no link : https://www.dropbox.com/s/8o4ysiccspp46ov/skin-cancer-mnist-ham10000.zip?e=1&dl=0\n",
        "\n",
        "Siga as seguintes instruções abaixo:\n",
        "\n",
        "1 - Extraia o dataset no seu Google drive e substitua seu diretorio na variavel raw_files_folder.\n",
        "\n",
        "2 - Criar as pastas Imagens_treino,Imagens_teste,Imagens_valid.\n",
        "\n",
        "3 - As variaveis train_folder_id,test_folder_id e validation_folder_id são nome de pastas criadas para receber imagens misturadas de forma pseudoaletoria, mantenha as strings dessas variaveis ."
      ],
      "metadata": {
        "id": "MS6OydlcX9D0"
      }
    },
    {
      "cell_type": "markdown",
      "source": [
        "#Instalar Libs"
      ],
      "metadata": {
        "id": "0Oe2Da_vpAn8"
      }
    },
    {
      "cell_type": "code",
      "source": [
        "import os\n",
        "import random\n",
        "from shutil import copyfile\n",
        "import numpy as np\n",
        "from PIL import Image\n",
        "from tensorflow.keras.utils import to_categorical\n",
        "import pandas as pd\n",
        "import matplotlib.pyplot as plt\n",
        "\n",
        "from tensorflow import keras\n",
        "from keras.models import Sequential, load_model\n",
        "from keras.layers import Dense\n",
        "from keras.layers import Dropout\n",
        "from keras.layers import Flatten\n",
        "from keras.layers import Conv2D\n",
        "from keras.layers import MaxPooling2D"
      ],
      "metadata": {
        "id": "xXnKxl0zQqgO"
      },
      "execution_count": 1,
      "outputs": []
    },
    {
      "cell_type": "markdown",
      "source": [
        "#Conectar no Google e Variaveis iniciais"
      ],
      "metadata": {
        "id": "9C4n4Wc1TL0V"
      }
    },
    {
      "cell_type": "code",
      "source": [
        "from google.colab import drive\n",
        "drive.mount('/content/drive')\n",
        "\n",
        "# Variaveis Glogabais\n",
        "\n",
        "#Arquivos\n",
        "raw_files_folder = '/content/drive/My Drive/dataset_deep_learning/skin_cancer/'\n",
        "local_folder_path_1 =  raw_files_folder + 'HAM10000_images_part_1/'\n",
        "local_folder_path_2 =  raw_files_folder + 'HAM10000_images_part_2/'\n",
        "\n",
        "#Nome das pastas\n",
        "train_folder_id = 'Imagens_treino'\n",
        "test_folder_id = 'Imagens_teste'\n",
        "validation_folder_id = 'Imagens_valid'\n",
        "\n",
        "#Amostras (mudar conforme seu ambiente aguenta)\n",
        "FILES_TREINO = 5001\n",
        "FILES_TESTE = 1251\n",
        "FILES_VALID = 1251\n",
        "\n",
        "#Index a serem selecionados\n",
        "FILES_FILTRAR_TREINO = int(FILES_TREINO/2)\n",
        "FILES_FILTRAR_TESTE = int(FILES_TESTE/2)\n",
        "FILES_FILTRAR_VALID = int(FILES_VALID/2)\n"
      ],
      "metadata": {
        "id": "7SInVegzQuj4",
        "colab": {
          "base_uri": "https://localhost:8080/"
        },
        "outputId": "cb37fda1-066c-4889-e9fc-228270feb3a6"
      },
      "execution_count": 2,
      "outputs": [
        {
          "output_type": "stream",
          "name": "stdout",
          "text": [
            "Mounted at /content/drive\n"
          ]
        }
      ]
    },
    {
      "cell_type": "markdown",
      "source": [
        "#Aplicar Pseudoaleatoriedade entre as pastas, criar 3 pastas (treino, teste e validação) e subir as novas imagens"
      ],
      "metadata": {
        "id": "GNUis0LWTUSU"
      }
    },
    {
      "cell_type": "code",
      "source": [
        "# Listar arquivos em ambas as pastas\n",
        "files_1 = os.listdir(local_folder_path_1)\n",
        "files_2 = os.listdir(local_folder_path_2)"
      ],
      "metadata": {
        "id": "l26uiuEiQwRg"
      },
      "execution_count": 3,
      "outputs": []
    },
    {
      "cell_type": "code",
      "source": [
        "# Filtrar os primeiros valores da lista para os conjuntos de treino\n",
        "train_files_part_1 = files_1[:FILES_FILTRAR_TREINO]\n",
        "train_files_part_2 = files_2[:FILES_FILTRAR_TREINO]\n",
        "\n",
        "# Filtrar os valores finais da lista para os conjuntos de validação\n",
        "validation_files_part1 = files_1[-FILES_FILTRAR_VALID:]\n",
        "validation_files_part2 = files_2[-FILES_FILTRAR_VALID:]\n",
        "\n",
        "# Calcular o índice central para os conjuntos de teste\n",
        "middle_index = len(files_1) // 2\n",
        "\n",
        "# Filtrar valores no meio da lista para os conjuntos de teste\n",
        "start_index = middle_index - FILES_FILTRAR_TESTE // 2\n",
        "end_index = middle_index + FILES_FILTRAR_TESTE // 2\n",
        "test_files_part_1 = files_1[start_index:end_index][:FILES_TESTE]\n",
        "test_files_part_2 = files_2[start_index:end_index][:FILES_TESTE]\n"
      ],
      "metadata": {
        "id": "25SwVmozQ1UU"
      },
      "execution_count": 4,
      "outputs": []
    },
    {
      "cell_type": "code",
      "source": [
        "# Função para fazer upload dos arquivos para uma pasta no Google Drive\n",
        "def upload_files_to_drive(files, folder_id,folder_path):\n",
        "    for filename in files:\n",
        "        # Define o caminho completo do arquivo local\n",
        "        local_file_path = os.path.join(folder_path, filename)\n",
        "\n",
        "        # Define o caminho completo da pasta de destino no Google Drive\n",
        "        dest_folder_path = os.path.join(raw_files_folder, folder_id)\n",
        "\n",
        "        # Copia o arquivo para a pasta de destino no Google Drive\n",
        "        copyfile(local_file_path, os.path.join(dest_folder_path, filename))\n"
      ],
      "metadata": {
        "id": "iJALlxe4Q3Mo"
      },
      "execution_count": 5,
      "outputs": []
    },
    {
      "cell_type": "code",
      "source": [
        "# Fazer upload das imagens para as pastas correspondentes no Google Drive\n",
        "#Arquivos de treino\n",
        "upload_files_to_drive(train_files_part_1, train_folder_id,local_folder_path_1)\n",
        "upload_files_to_drive(train_files_part_2, train_folder_id,local_folder_path_2)"
      ],
      "metadata": {
        "id": "DBCozO19Q6q3"
      },
      "execution_count": 6,
      "outputs": []
    },
    {
      "cell_type": "code",
      "source": [
        "#Arquivos de teste\n",
        "upload_files_to_drive(test_files_part_1, test_folder_id,local_folder_path_1)\n",
        "upload_files_to_drive(test_files_part_2, test_folder_id,local_folder_path_2)"
      ],
      "metadata": {
        "id": "lKdcsOTRQ8dS"
      },
      "execution_count": 7,
      "outputs": []
    },
    {
      "cell_type": "code",
      "source": [
        "#Arquivos de validacao\n",
        "upload_files_to_drive(validation_files_part1, validation_folder_id,local_folder_path_1)\n",
        "upload_files_to_drive(validation_files_part2, validation_folder_id,local_folder_path_2)"
      ],
      "metadata": {
        "id": "4O9GhFLXQ-ku"
      },
      "execution_count": 8,
      "outputs": []
    },
    {
      "cell_type": "markdown",
      "source": [
        "#Processamento das imagens"
      ],
      "metadata": {
        "id": "JynGTn1DpFYw"
      }
    },
    {
      "cell_type": "markdown",
      "source": [
        "##Listagem das imagens"
      ],
      "metadata": {
        "id": "asTwGZkCpJYs"
      }
    },
    {
      "cell_type": "code",
      "source": [
        "#funcao para processamento das imagens em formato de array\n",
        "def process_images_from_folder(folder_path,files):\n",
        "    images = []\n",
        "    for filename in os.listdir(folder_path)[:len(files)]:\n",
        "        image_path = os.path.join(folder_path, filename)\n",
        "        image = Image.open(image_path)\n",
        "        image_array = np.array(image)\n",
        "        images.append(image_array)\n",
        "    return np.array(images)"
      ],
      "metadata": {
        "id": "9SBivW1BAb4b"
      },
      "execution_count": 9,
      "outputs": []
    },
    {
      "cell_type": "code",
      "source": [
        "# Pasta no Google Drive onde estão as imagens\n",
        "train_folder  = raw_files_folder + train_folder_id\n",
        "test_folder =  raw_files_folder + test_folder_id\n",
        "validation_folder =  raw_files_folder  + validation_folder_id\n",
        "\n",
        "# Listar os arquivos nas pastas de treino, teste e validação e remover as aspas\n",
        "train_files = [os.path.splitext(file.replace('\"', ''))[0] for file in os.listdir(train_folder)[:FILES_TREINO]]\n",
        "test_files = [os.path.splitext(file.replace('\"', ''))[0] for file in os.listdir(test_folder)[:FILES_TESTE]]\n",
        "valid_files = [os.path.splitext(file.replace('\"', ''))[0] for file in os.listdir(validation_folder)[:FILES_VALID]]\n"
      ],
      "metadata": {
        "id": "_ry9YecGswTJ"
      },
      "execution_count": 10,
      "outputs": []
    },
    {
      "cell_type": "markdown",
      "source": [
        "##Processamento inicial das features de treino, validação e teste"
      ],
      "metadata": {
        "id": "0rckJbZ-pOkv"
      }
    },
    {
      "cell_type": "code",
      "source": [
        "# Processar as imagens de cada pasta\n",
        "x_train = process_images_from_folder(train_folder,train_files)\n",
        "x_validation = process_images_from_folder(validation_folder,valid_files)\n",
        "x_test = process_images_from_folder(test_folder,test_files)\n"
      ],
      "metadata": {
        "id": "WUGZ9EzNst1m"
      },
      "execution_count": 11,
      "outputs": []
    },
    {
      "cell_type": "markdown",
      "source": [
        "###Imagem colorida contendo mais dimensoes, conventendo para apenas 1d (features) // redimensonar para 50x50 devido ao tamanho da imagem"
      ],
      "metadata": {
        "id": "EhI_dB2dpdyU"
      }
    },
    {
      "cell_type": "code",
      "source": [
        "# Redimensionar as imagens para 46x32 pixels\n",
        "def resize_images(images):\n",
        "    resized_images = []\n",
        "    for img in images:\n",
        "        resized_img = np.array(Image.fromarray(img).resize((50, 50)))\n",
        "        resized_images.append(resized_img)\n",
        "    return np.array(resized_images)\n",
        "\n",
        "# Redimensionar as imagens de treino, validação e teste\n",
        "x_train_resized = resize_images(x_train)\n",
        "x_validation_resized = resize_images(x_validation)\n",
        "x_test_resized = resize_images(x_test)\n"
      ],
      "metadata": {
        "id": "co4ZJZMBkq3r"
      },
      "execution_count": 12,
      "outputs": []
    },
    {
      "cell_type": "code",
      "source": [
        "x_train_resized.shape"
      ],
      "metadata": {
        "id": "PcFKjNBVlI4X",
        "colab": {
          "base_uri": "https://localhost:8080/"
        },
        "outputId": "53e526b7-770c-48c5-fe94-0154d7316111"
      },
      "execution_count": 13,
      "outputs": [
        {
          "output_type": "execute_result",
          "data": {
            "text/plain": [
              "(5000, 50, 50, 3)"
            ]
          },
          "metadata": {},
          "execution_count": 13
        }
      ]
    },
    {
      "cell_type": "code",
      "source": [
        "# Achatando as imagens para um array unidimensional\n",
        "x_train_flat = x_train_resized.reshape(x_train_resized.shape[0], -1)\n",
        "x_validation_flat = x_validation_resized.reshape(x_validation_resized.shape[0], -1)\n",
        "x_test_flat = x_test_resized.reshape(x_test_resized.shape[0], -1)"
      ],
      "metadata": {
        "id": "09WO87xvljss"
      },
      "execution_count": 14,
      "outputs": []
    },
    {
      "cell_type": "code",
      "source": [
        "# Criando DataFrames com os arrays unidimensionais\n",
        "df_train_pixels = pd.DataFrame(x_train_flat, columns=[f'pixel_{i}' for i in range(x_train_flat.shape[1])])\n",
        "df_validation_pixels = pd.DataFrame(x_validation_flat, columns=[f'pixel_{i}' for i in range(x_validation_flat.shape[1])])\n",
        "df_test_pixels = pd.DataFrame(x_test_flat, columns=[f'pixel_{i}' for i in range(x_test_flat.shape[1])])\n"
      ],
      "metadata": {
        "id": "O1ptYYncm8Vy"
      },
      "execution_count": 15,
      "outputs": []
    },
    {
      "cell_type": "code",
      "source": [
        "# Verificando a forma dos DataFrames resultantes\n",
        "print(\"Shape do DataFrame de treino:\", df_train_pixels.shape)\n",
        "print(\"Shape do DataFrame de validação:\", df_validation_pixels.shape)\n",
        "print(\"Shape do DataFrame de teste:\", df_test_pixels.shape)"
      ],
      "metadata": {
        "id": "rUYuAUWWheZl",
        "colab": {
          "base_uri": "https://localhost:8080/"
        },
        "outputId": "3f3ef208-9094-4aa6-9950-6d85a464593d"
      },
      "execution_count": 16,
      "outputs": [
        {
          "output_type": "stream",
          "name": "stdout",
          "text": [
            "Shape do DataFrame de treino: (5000, 7500)\n",
            "Shape do DataFrame de validação: (1250, 7500)\n",
            "Shape do DataFrame de teste: (1248, 7500)\n"
          ]
        }
      ]
    },
    {
      "cell_type": "code",
      "source": [
        "df_train_pixels['image_id']= train_files\n",
        "df_validation_pixels['image_id']= valid_files\n",
        "df_test_pixels['image_id']= test_files"
      ],
      "metadata": {
        "id": "FB-6JGWaoH3F"
      },
      "execution_count": 17,
      "outputs": []
    },
    {
      "cell_type": "markdown",
      "source": [
        "##Processamento das Labels [é cancer, não é cancer]"
      ],
      "metadata": {
        "id": "cOav4TbapWnc"
      }
    },
    {
      "cell_type": "code",
      "source": [
        "# Consumir os metadados\n",
        "dataset_path = raw_files_folder + 'HAM10000_metadata.csv'\n",
        "metadados = pd.read_csv(dataset_path)\n",
        "metadados_dx = metadados[['image_id', 'dx']].copy()\n",
        "\n",
        "# Lista de valores que indicam \"não é câncer\"\n",
        "nao_cancer = ['akiec', 'nv', 'bkl']\n",
        "\n",
        "####'akiec': Queratose actínica / Carcinoma intraepitelial escamoso de células escamosas (CIECE)\n",
        "####'nv': Nevo melanocítico\n",
        "####'bkl': Lesão benigna da queratose (Benign keratosis-like lesions)\n",
        "\n",
        "# Criar a nova coluna \"dx_rede\" com a regra de cancer e não cancer\n",
        "metadados_dx['dx_rede'] = metadados_dx['dx'].copy().apply(lambda x: 'não é câncer' if x in nao_cancer else 'é câncer')\n",
        "\n",
        "df_target = metadados_dx[['image_id','dx_rede']].copy()\n"
      ],
      "metadata": {
        "id": "BuDEsXIMxl2a"
      },
      "execution_count": 18,
      "outputs": []
    },
    {
      "cell_type": "markdown",
      "source": [
        "###Criação das Labels de arquivo com os arquivos das pastas de treino e teste"
      ],
      "metadata": {
        "id": "JBSdToMRppKg"
      }
    },
    {
      "cell_type": "code",
      "source": [
        "# Filtrar o DataFrame para cada conjunto\n",
        "df_train_filtered = df_target[df_target['image_id'].isin(train_files)]\n",
        "df_test_filtered = df_target[df_target['image_id'].isin(test_files)]\n",
        "df_valid_filtered = df_target[df_target['image_id'].isin(valid_files)]"
      ],
      "metadata": {
        "id": "-6Piu_QGl6yU"
      },
      "execution_count": 19,
      "outputs": []
    },
    {
      "cell_type": "code",
      "source": [
        "# Garantir que os IDs das imagens estão no mesmo formato em ambos os DataFrames\n",
        "df_train_filtered['image_id'] = df_train_filtered['image_id'].copy().apply(lambda x: os.path.splitext(x)[0])\n",
        "df_valid_filtered['image_id'] = df_valid_filtered['image_id'].copy().apply(lambda x: os.path.splitext(x)[0])\n",
        "df_test_filtered['image_id'] = df_test_filtered['image_id'].copy().apply(lambda x: os.path.splitext(x)[0])\n"
      ],
      "metadata": {
        "id": "-Dz0Z16Vlloc",
        "colab": {
          "base_uri": "https://localhost:8080/"
        },
        "outputId": "9cdad95b-2c05-438a-83e3-075a60530ced"
      },
      "execution_count": 20,
      "outputs": [
        {
          "output_type": "stream",
          "name": "stderr",
          "text": [
            "<ipython-input-20-20554f2a2e15>:2: SettingWithCopyWarning: \n",
            "A value is trying to be set on a copy of a slice from a DataFrame.\n",
            "Try using .loc[row_indexer,col_indexer] = value instead\n",
            "\n",
            "See the caveats in the documentation: https://pandas.pydata.org/pandas-docs/stable/user_guide/indexing.html#returning-a-view-versus-a-copy\n",
            "  df_train_filtered['image_id'] = df_train_filtered['image_id'].copy().apply(lambda x: os.path.splitext(x)[0])\n",
            "<ipython-input-20-20554f2a2e15>:3: SettingWithCopyWarning: \n",
            "A value is trying to be set on a copy of a slice from a DataFrame.\n",
            "Try using .loc[row_indexer,col_indexer] = value instead\n",
            "\n",
            "See the caveats in the documentation: https://pandas.pydata.org/pandas-docs/stable/user_guide/indexing.html#returning-a-view-versus-a-copy\n",
            "  df_valid_filtered['image_id'] = df_valid_filtered['image_id'].copy().apply(lambda x: os.path.splitext(x)[0])\n",
            "<ipython-input-20-20554f2a2e15>:4: SettingWithCopyWarning: \n",
            "A value is trying to be set on a copy of a slice from a DataFrame.\n",
            "Try using .loc[row_indexer,col_indexer] = value instead\n",
            "\n",
            "See the caveats in the documentation: https://pandas.pydata.org/pandas-docs/stable/user_guide/indexing.html#returning-a-view-versus-a-copy\n",
            "  df_test_filtered['image_id'] = df_test_filtered['image_id'].copy().apply(lambda x: os.path.splitext(x)[0])\n"
          ]
        }
      ]
    },
    {
      "cell_type": "markdown",
      "source": [
        "###Criação do dataset processado com as imagens e labels definindo por imagem o que é cancerigeno e o que não é"
      ],
      "metadata": {
        "id": "sM16bxXZp6La"
      }
    },
    {
      "cell_type": "code",
      "source": [
        "# Unir os DataFrames de pixels com os DataFrames de metadados usando a coluna 'image_id'\n",
        "df_train_merged = pd.merge(df_train_pixels, df_train_filtered, on='image_id')\n",
        "df_validation_merged = pd.merge(df_validation_pixels, df_valid_filtered, on='image_id')\n",
        "df_test_merged = pd.merge(df_test_pixels, df_test_filtered, on='image_id')\n",
        "\n",
        "df_train_true = df_train_merged.drop('image_id',axis = 1)\n",
        "df_test_true = df_test_merged.drop('image_id',axis = 1)\n",
        "df_validation_true = df_validation_merged.drop('image_id',axis = 1)"
      ],
      "metadata": {
        "id": "ltz3XAEMbYC8"
      },
      "execution_count": 21,
      "outputs": []
    },
    {
      "cell_type": "code",
      "source": [
        "#Mudar nome de coluna de \"dx_rede\" para \"label\"\n",
        "df_train_true.rename(columns={'dx_rede': 'label'}, inplace=True)\n",
        "df_test_true.rename(columns={'dx_rede': 'label'}, inplace=True)\n",
        "df_validation_true.rename(columns={'dx_rede': 'label'}, inplace=True)"
      ],
      "metadata": {
        "id": "8cMu3WaXoROq"
      },
      "execution_count": 22,
      "outputs": []
    },
    {
      "cell_type": "code",
      "source": [
        "df_train_true.head()"
      ],
      "metadata": {
        "id": "HAaKbqE4ms_P",
        "colab": {
          "base_uri": "https://localhost:8080/",
          "height": 342
        },
        "outputId": "784c2a08-5015-4e02-adfc-73fc498f62b5"
      },
      "execution_count": 23,
      "outputs": [
        {
          "output_type": "execute_result",
          "data": {
            "text/plain": [
              "   pixel_0  pixel_1  pixel_2  pixel_3  pixel_4  pixel_5  pixel_6  pixel_7  \\\n",
              "0      179      151      177      181      152      178      184      156   \n",
              "1       57       37       40       96       72       75      128      106   \n",
              "2        3        3        1        6        5        3        8        8   \n",
              "3        0        0        0        0        0        0        0        0   \n",
              "4      213      199      200      219      204      206      225      210   \n",
              "\n",
              "   pixel_8  pixel_9  ...  pixel_7491  pixel_7492  pixel_7493  pixel_7494  \\\n",
              "0      179      185  ...         193         162         177         190   \n",
              "1      105      143  ...         111          80          83          82   \n",
              "2        5       17  ...         135         106         111         129   \n",
              "3        0        0  ...           0           0           0           0   \n",
              "4      214      229  ...         225         206         211         221   \n",
              "\n",
              "   pixel_7495  pixel_7496  pixel_7497  pixel_7498  pixel_7499         label  \n",
              "0         158         176         187         157         174  não é câncer  \n",
              "1          49          56          45          27          32      é câncer  \n",
              "2         103         103         127         104         103  não é câncer  \n",
              "3           0           0           0           0           0  não é câncer  \n",
              "4         202         207         219         199         206  não é câncer  \n",
              "\n",
              "[5 rows x 7501 columns]"
            ],
            "text/html": [
              "\n",
              "  <div id=\"df-5456e763-8d4d-4b10-a8e2-b969b058ef6a\" class=\"colab-df-container\">\n",
              "    <div>\n",
              "<style scoped>\n",
              "    .dataframe tbody tr th:only-of-type {\n",
              "        vertical-align: middle;\n",
              "    }\n",
              "\n",
              "    .dataframe tbody tr th {\n",
              "        vertical-align: top;\n",
              "    }\n",
              "\n",
              "    .dataframe thead th {\n",
              "        text-align: right;\n",
              "    }\n",
              "</style>\n",
              "<table border=\"1\" class=\"dataframe\">\n",
              "  <thead>\n",
              "    <tr style=\"text-align: right;\">\n",
              "      <th></th>\n",
              "      <th>pixel_0</th>\n",
              "      <th>pixel_1</th>\n",
              "      <th>pixel_2</th>\n",
              "      <th>pixel_3</th>\n",
              "      <th>pixel_4</th>\n",
              "      <th>pixel_5</th>\n",
              "      <th>pixel_6</th>\n",
              "      <th>pixel_7</th>\n",
              "      <th>pixel_8</th>\n",
              "      <th>pixel_9</th>\n",
              "      <th>...</th>\n",
              "      <th>pixel_7491</th>\n",
              "      <th>pixel_7492</th>\n",
              "      <th>pixel_7493</th>\n",
              "      <th>pixel_7494</th>\n",
              "      <th>pixel_7495</th>\n",
              "      <th>pixel_7496</th>\n",
              "      <th>pixel_7497</th>\n",
              "      <th>pixel_7498</th>\n",
              "      <th>pixel_7499</th>\n",
              "      <th>label</th>\n",
              "    </tr>\n",
              "  </thead>\n",
              "  <tbody>\n",
              "    <tr>\n",
              "      <th>0</th>\n",
              "      <td>179</td>\n",
              "      <td>151</td>\n",
              "      <td>177</td>\n",
              "      <td>181</td>\n",
              "      <td>152</td>\n",
              "      <td>178</td>\n",
              "      <td>184</td>\n",
              "      <td>156</td>\n",
              "      <td>179</td>\n",
              "      <td>185</td>\n",
              "      <td>...</td>\n",
              "      <td>193</td>\n",
              "      <td>162</td>\n",
              "      <td>177</td>\n",
              "      <td>190</td>\n",
              "      <td>158</td>\n",
              "      <td>176</td>\n",
              "      <td>187</td>\n",
              "      <td>157</td>\n",
              "      <td>174</td>\n",
              "      <td>não é câncer</td>\n",
              "    </tr>\n",
              "    <tr>\n",
              "      <th>1</th>\n",
              "      <td>57</td>\n",
              "      <td>37</td>\n",
              "      <td>40</td>\n",
              "      <td>96</td>\n",
              "      <td>72</td>\n",
              "      <td>75</td>\n",
              "      <td>128</td>\n",
              "      <td>106</td>\n",
              "      <td>105</td>\n",
              "      <td>143</td>\n",
              "      <td>...</td>\n",
              "      <td>111</td>\n",
              "      <td>80</td>\n",
              "      <td>83</td>\n",
              "      <td>82</td>\n",
              "      <td>49</td>\n",
              "      <td>56</td>\n",
              "      <td>45</td>\n",
              "      <td>27</td>\n",
              "      <td>32</td>\n",
              "      <td>é câncer</td>\n",
              "    </tr>\n",
              "    <tr>\n",
              "      <th>2</th>\n",
              "      <td>3</td>\n",
              "      <td>3</td>\n",
              "      <td>1</td>\n",
              "      <td>6</td>\n",
              "      <td>5</td>\n",
              "      <td>3</td>\n",
              "      <td>8</td>\n",
              "      <td>8</td>\n",
              "      <td>5</td>\n",
              "      <td>17</td>\n",
              "      <td>...</td>\n",
              "      <td>135</td>\n",
              "      <td>106</td>\n",
              "      <td>111</td>\n",
              "      <td>129</td>\n",
              "      <td>103</td>\n",
              "      <td>103</td>\n",
              "      <td>127</td>\n",
              "      <td>104</td>\n",
              "      <td>103</td>\n",
              "      <td>não é câncer</td>\n",
              "    </tr>\n",
              "    <tr>\n",
              "      <th>3</th>\n",
              "      <td>0</td>\n",
              "      <td>0</td>\n",
              "      <td>0</td>\n",
              "      <td>0</td>\n",
              "      <td>0</td>\n",
              "      <td>0</td>\n",
              "      <td>0</td>\n",
              "      <td>0</td>\n",
              "      <td>0</td>\n",
              "      <td>0</td>\n",
              "      <td>...</td>\n",
              "      <td>0</td>\n",
              "      <td>0</td>\n",
              "      <td>0</td>\n",
              "      <td>0</td>\n",
              "      <td>0</td>\n",
              "      <td>0</td>\n",
              "      <td>0</td>\n",
              "      <td>0</td>\n",
              "      <td>0</td>\n",
              "      <td>não é câncer</td>\n",
              "    </tr>\n",
              "    <tr>\n",
              "      <th>4</th>\n",
              "      <td>213</td>\n",
              "      <td>199</td>\n",
              "      <td>200</td>\n",
              "      <td>219</td>\n",
              "      <td>204</td>\n",
              "      <td>206</td>\n",
              "      <td>225</td>\n",
              "      <td>210</td>\n",
              "      <td>214</td>\n",
              "      <td>229</td>\n",
              "      <td>...</td>\n",
              "      <td>225</td>\n",
              "      <td>206</td>\n",
              "      <td>211</td>\n",
              "      <td>221</td>\n",
              "      <td>202</td>\n",
              "      <td>207</td>\n",
              "      <td>219</td>\n",
              "      <td>199</td>\n",
              "      <td>206</td>\n",
              "      <td>não é câncer</td>\n",
              "    </tr>\n",
              "  </tbody>\n",
              "</table>\n",
              "<p>5 rows × 7501 columns</p>\n",
              "</div>\n",
              "    <div class=\"colab-df-buttons\">\n",
              "\n",
              "  <div class=\"colab-df-container\">\n",
              "    <button class=\"colab-df-convert\" onclick=\"convertToInteractive('df-5456e763-8d4d-4b10-a8e2-b969b058ef6a')\"\n",
              "            title=\"Convert this dataframe to an interactive table.\"\n",
              "            style=\"display:none;\">\n",
              "\n",
              "  <svg xmlns=\"http://www.w3.org/2000/svg\" height=\"24px\" viewBox=\"0 -960 960 960\">\n",
              "    <path d=\"M120-120v-720h720v720H120Zm60-500h600v-160H180v160Zm220 220h160v-160H400v160Zm0 220h160v-160H400v160ZM180-400h160v-160H180v160Zm440 0h160v-160H620v160ZM180-180h160v-160H180v160Zm440 0h160v-160H620v160Z\"/>\n",
              "  </svg>\n",
              "    </button>\n",
              "\n",
              "  <style>\n",
              "    .colab-df-container {\n",
              "      display:flex;\n",
              "      gap: 12px;\n",
              "    }\n",
              "\n",
              "    .colab-df-convert {\n",
              "      background-color: #E8F0FE;\n",
              "      border: none;\n",
              "      border-radius: 50%;\n",
              "      cursor: pointer;\n",
              "      display: none;\n",
              "      fill: #1967D2;\n",
              "      height: 32px;\n",
              "      padding: 0 0 0 0;\n",
              "      width: 32px;\n",
              "    }\n",
              "\n",
              "    .colab-df-convert:hover {\n",
              "      background-color: #E2EBFA;\n",
              "      box-shadow: 0px 1px 2px rgba(60, 64, 67, 0.3), 0px 1px 3px 1px rgba(60, 64, 67, 0.15);\n",
              "      fill: #174EA6;\n",
              "    }\n",
              "\n",
              "    .colab-df-buttons div {\n",
              "      margin-bottom: 4px;\n",
              "    }\n",
              "\n",
              "    [theme=dark] .colab-df-convert {\n",
              "      background-color: #3B4455;\n",
              "      fill: #D2E3FC;\n",
              "    }\n",
              "\n",
              "    [theme=dark] .colab-df-convert:hover {\n",
              "      background-color: #434B5C;\n",
              "      box-shadow: 0px 1px 3px 1px rgba(0, 0, 0, 0.15);\n",
              "      filter: drop-shadow(0px 1px 2px rgba(0, 0, 0, 0.3));\n",
              "      fill: #FFFFFF;\n",
              "    }\n",
              "  </style>\n",
              "\n",
              "    <script>\n",
              "      const buttonEl =\n",
              "        document.querySelector('#df-5456e763-8d4d-4b10-a8e2-b969b058ef6a button.colab-df-convert');\n",
              "      buttonEl.style.display =\n",
              "        google.colab.kernel.accessAllowed ? 'block' : 'none';\n",
              "\n",
              "      async function convertToInteractive(key) {\n",
              "        const element = document.querySelector('#df-5456e763-8d4d-4b10-a8e2-b969b058ef6a');\n",
              "        const dataTable =\n",
              "          await google.colab.kernel.invokeFunction('convertToInteractive',\n",
              "                                                    [key], {});\n",
              "        if (!dataTable) return;\n",
              "\n",
              "        const docLinkHtml = 'Like what you see? Visit the ' +\n",
              "          '<a target=\"_blank\" href=https://colab.research.google.com/notebooks/data_table.ipynb>data table notebook</a>'\n",
              "          + ' to learn more about interactive tables.';\n",
              "        element.innerHTML = '';\n",
              "        dataTable['output_type'] = 'display_data';\n",
              "        await google.colab.output.renderOutput(dataTable, element);\n",
              "        const docLink = document.createElement('div');\n",
              "        docLink.innerHTML = docLinkHtml;\n",
              "        element.appendChild(docLink);\n",
              "      }\n",
              "    </script>\n",
              "  </div>\n",
              "\n",
              "\n",
              "<div id=\"df-8f2110b8-b9ba-4aa4-add2-e22f8b334766\">\n",
              "  <button class=\"colab-df-quickchart\" onclick=\"quickchart('df-8f2110b8-b9ba-4aa4-add2-e22f8b334766')\"\n",
              "            title=\"Suggest charts\"\n",
              "            style=\"display:none;\">\n",
              "\n",
              "<svg xmlns=\"http://www.w3.org/2000/svg\" height=\"24px\"viewBox=\"0 0 24 24\"\n",
              "     width=\"24px\">\n",
              "    <g>\n",
              "        <path d=\"M19 3H5c-1.1 0-2 .9-2 2v14c0 1.1.9 2 2 2h14c1.1 0 2-.9 2-2V5c0-1.1-.9-2-2-2zM9 17H7v-7h2v7zm4 0h-2V7h2v10zm4 0h-2v-4h2v4z\"/>\n",
              "    </g>\n",
              "</svg>\n",
              "  </button>\n",
              "\n",
              "<style>\n",
              "  .colab-df-quickchart {\n",
              "      --bg-color: #E8F0FE;\n",
              "      --fill-color: #1967D2;\n",
              "      --hover-bg-color: #E2EBFA;\n",
              "      --hover-fill-color: #174EA6;\n",
              "      --disabled-fill-color: #AAA;\n",
              "      --disabled-bg-color: #DDD;\n",
              "  }\n",
              "\n",
              "  [theme=dark] .colab-df-quickchart {\n",
              "      --bg-color: #3B4455;\n",
              "      --fill-color: #D2E3FC;\n",
              "      --hover-bg-color: #434B5C;\n",
              "      --hover-fill-color: #FFFFFF;\n",
              "      --disabled-bg-color: #3B4455;\n",
              "      --disabled-fill-color: #666;\n",
              "  }\n",
              "\n",
              "  .colab-df-quickchart {\n",
              "    background-color: var(--bg-color);\n",
              "    border: none;\n",
              "    border-radius: 50%;\n",
              "    cursor: pointer;\n",
              "    display: none;\n",
              "    fill: var(--fill-color);\n",
              "    height: 32px;\n",
              "    padding: 0;\n",
              "    width: 32px;\n",
              "  }\n",
              "\n",
              "  .colab-df-quickchart:hover {\n",
              "    background-color: var(--hover-bg-color);\n",
              "    box-shadow: 0 1px 2px rgba(60, 64, 67, 0.3), 0 1px 3px 1px rgba(60, 64, 67, 0.15);\n",
              "    fill: var(--button-hover-fill-color);\n",
              "  }\n",
              "\n",
              "  .colab-df-quickchart-complete:disabled,\n",
              "  .colab-df-quickchart-complete:disabled:hover {\n",
              "    background-color: var(--disabled-bg-color);\n",
              "    fill: var(--disabled-fill-color);\n",
              "    box-shadow: none;\n",
              "  }\n",
              "\n",
              "  .colab-df-spinner {\n",
              "    border: 2px solid var(--fill-color);\n",
              "    border-color: transparent;\n",
              "    border-bottom-color: var(--fill-color);\n",
              "    animation:\n",
              "      spin 1s steps(1) infinite;\n",
              "  }\n",
              "\n",
              "  @keyframes spin {\n",
              "    0% {\n",
              "      border-color: transparent;\n",
              "      border-bottom-color: var(--fill-color);\n",
              "      border-left-color: var(--fill-color);\n",
              "    }\n",
              "    20% {\n",
              "      border-color: transparent;\n",
              "      border-left-color: var(--fill-color);\n",
              "      border-top-color: var(--fill-color);\n",
              "    }\n",
              "    30% {\n",
              "      border-color: transparent;\n",
              "      border-left-color: var(--fill-color);\n",
              "      border-top-color: var(--fill-color);\n",
              "      border-right-color: var(--fill-color);\n",
              "    }\n",
              "    40% {\n",
              "      border-color: transparent;\n",
              "      border-right-color: var(--fill-color);\n",
              "      border-top-color: var(--fill-color);\n",
              "    }\n",
              "    60% {\n",
              "      border-color: transparent;\n",
              "      border-right-color: var(--fill-color);\n",
              "    }\n",
              "    80% {\n",
              "      border-color: transparent;\n",
              "      border-right-color: var(--fill-color);\n",
              "      border-bottom-color: var(--fill-color);\n",
              "    }\n",
              "    90% {\n",
              "      border-color: transparent;\n",
              "      border-bottom-color: var(--fill-color);\n",
              "    }\n",
              "  }\n",
              "</style>\n",
              "\n",
              "  <script>\n",
              "    async function quickchart(key) {\n",
              "      const quickchartButtonEl =\n",
              "        document.querySelector('#' + key + ' button');\n",
              "      quickchartButtonEl.disabled = true;  // To prevent multiple clicks.\n",
              "      quickchartButtonEl.classList.add('colab-df-spinner');\n",
              "      try {\n",
              "        const charts = await google.colab.kernel.invokeFunction(\n",
              "            'suggestCharts', [key], {});\n",
              "      } catch (error) {\n",
              "        console.error('Error during call to suggestCharts:', error);\n",
              "      }\n",
              "      quickchartButtonEl.classList.remove('colab-df-spinner');\n",
              "      quickchartButtonEl.classList.add('colab-df-quickchart-complete');\n",
              "    }\n",
              "    (() => {\n",
              "      let quickchartButtonEl =\n",
              "        document.querySelector('#df-8f2110b8-b9ba-4aa4-add2-e22f8b334766 button');\n",
              "      quickchartButtonEl.style.display =\n",
              "        google.colab.kernel.accessAllowed ? 'block' : 'none';\n",
              "    })();\n",
              "  </script>\n",
              "</div>\n",
              "\n",
              "    </div>\n",
              "  </div>\n"
            ],
            "application/vnd.google.colaboratory.intrinsic+json": {
              "type": "dataframe",
              "variable_name": "df_train_true"
            }
          },
          "metadata": {},
          "execution_count": 23
        }
      ]
    },
    {
      "cell_type": "code",
      "source": [
        "df_test_true.head()"
      ],
      "metadata": {
        "id": "YTQVqeSjs5XB",
        "colab": {
          "base_uri": "https://localhost:8080/",
          "height": 342
        },
        "outputId": "02e10576-8b26-4443-b67d-d2591fe0eccf"
      },
      "execution_count": 24,
      "outputs": [
        {
          "output_type": "execute_result",
          "data": {
            "text/plain": [
              "   pixel_0  pixel_1  pixel_2  pixel_3  pixel_4  pixel_5  pixel_6  pixel_7  \\\n",
              "0      233      149      171      232      148      172      237      152   \n",
              "1      239      176      181      241      176      182      240      175   \n",
              "2      182      153      163      191      161      170      197      165   \n",
              "3      233      158      172      236      160      174      237      157   \n",
              "4      153      123      123      168      140      148      179      154   \n",
              "\n",
              "   pixel_8  pixel_9  ...  pixel_7491  pixel_7492  pixel_7493  pixel_7494  \\\n",
              "0      175      237  ...         221         143         153         219   \n",
              "1      182      241  ...         228         177         175         227   \n",
              "2      172      200  ...         207         168         176         202   \n",
              "3      173      238  ...         232         163         173         230   \n",
              "4      167      182  ...         170         144         143         162   \n",
              "\n",
              "   pixel_7495  pixel_7496  pixel_7497  pixel_7498  pixel_7499         label  \n",
              "0         142         157         220         146         160  não é câncer  \n",
              "1         177         175         225         177         174  não é câncer  \n",
              "2         158         162         199         150         149      é câncer  \n",
              "3         161         171         228         162         171  não é câncer  \n",
              "4         137         134         154         131         134      é câncer  \n",
              "\n",
              "[5 rows x 7501 columns]"
            ],
            "text/html": [
              "\n",
              "  <div id=\"df-40597d82-1985-4479-99b4-0ed21b62dea6\" class=\"colab-df-container\">\n",
              "    <div>\n",
              "<style scoped>\n",
              "    .dataframe tbody tr th:only-of-type {\n",
              "        vertical-align: middle;\n",
              "    }\n",
              "\n",
              "    .dataframe tbody tr th {\n",
              "        vertical-align: top;\n",
              "    }\n",
              "\n",
              "    .dataframe thead th {\n",
              "        text-align: right;\n",
              "    }\n",
              "</style>\n",
              "<table border=\"1\" class=\"dataframe\">\n",
              "  <thead>\n",
              "    <tr style=\"text-align: right;\">\n",
              "      <th></th>\n",
              "      <th>pixel_0</th>\n",
              "      <th>pixel_1</th>\n",
              "      <th>pixel_2</th>\n",
              "      <th>pixel_3</th>\n",
              "      <th>pixel_4</th>\n",
              "      <th>pixel_5</th>\n",
              "      <th>pixel_6</th>\n",
              "      <th>pixel_7</th>\n",
              "      <th>pixel_8</th>\n",
              "      <th>pixel_9</th>\n",
              "      <th>...</th>\n",
              "      <th>pixel_7491</th>\n",
              "      <th>pixel_7492</th>\n",
              "      <th>pixel_7493</th>\n",
              "      <th>pixel_7494</th>\n",
              "      <th>pixel_7495</th>\n",
              "      <th>pixel_7496</th>\n",
              "      <th>pixel_7497</th>\n",
              "      <th>pixel_7498</th>\n",
              "      <th>pixel_7499</th>\n",
              "      <th>label</th>\n",
              "    </tr>\n",
              "  </thead>\n",
              "  <tbody>\n",
              "    <tr>\n",
              "      <th>0</th>\n",
              "      <td>233</td>\n",
              "      <td>149</td>\n",
              "      <td>171</td>\n",
              "      <td>232</td>\n",
              "      <td>148</td>\n",
              "      <td>172</td>\n",
              "      <td>237</td>\n",
              "      <td>152</td>\n",
              "      <td>175</td>\n",
              "      <td>237</td>\n",
              "      <td>...</td>\n",
              "      <td>221</td>\n",
              "      <td>143</td>\n",
              "      <td>153</td>\n",
              "      <td>219</td>\n",
              "      <td>142</td>\n",
              "      <td>157</td>\n",
              "      <td>220</td>\n",
              "      <td>146</td>\n",
              "      <td>160</td>\n",
              "      <td>não é câncer</td>\n",
              "    </tr>\n",
              "    <tr>\n",
              "      <th>1</th>\n",
              "      <td>239</td>\n",
              "      <td>176</td>\n",
              "      <td>181</td>\n",
              "      <td>241</td>\n",
              "      <td>176</td>\n",
              "      <td>182</td>\n",
              "      <td>240</td>\n",
              "      <td>175</td>\n",
              "      <td>182</td>\n",
              "      <td>241</td>\n",
              "      <td>...</td>\n",
              "      <td>228</td>\n",
              "      <td>177</td>\n",
              "      <td>175</td>\n",
              "      <td>227</td>\n",
              "      <td>177</td>\n",
              "      <td>175</td>\n",
              "      <td>225</td>\n",
              "      <td>177</td>\n",
              "      <td>174</td>\n",
              "      <td>não é câncer</td>\n",
              "    </tr>\n",
              "    <tr>\n",
              "      <th>2</th>\n",
              "      <td>182</td>\n",
              "      <td>153</td>\n",
              "      <td>163</td>\n",
              "      <td>191</td>\n",
              "      <td>161</td>\n",
              "      <td>170</td>\n",
              "      <td>197</td>\n",
              "      <td>165</td>\n",
              "      <td>172</td>\n",
              "      <td>200</td>\n",
              "      <td>...</td>\n",
              "      <td>207</td>\n",
              "      <td>168</td>\n",
              "      <td>176</td>\n",
              "      <td>202</td>\n",
              "      <td>158</td>\n",
              "      <td>162</td>\n",
              "      <td>199</td>\n",
              "      <td>150</td>\n",
              "      <td>149</td>\n",
              "      <td>é câncer</td>\n",
              "    </tr>\n",
              "    <tr>\n",
              "      <th>3</th>\n",
              "      <td>233</td>\n",
              "      <td>158</td>\n",
              "      <td>172</td>\n",
              "      <td>236</td>\n",
              "      <td>160</td>\n",
              "      <td>174</td>\n",
              "      <td>237</td>\n",
              "      <td>157</td>\n",
              "      <td>173</td>\n",
              "      <td>238</td>\n",
              "      <td>...</td>\n",
              "      <td>232</td>\n",
              "      <td>163</td>\n",
              "      <td>173</td>\n",
              "      <td>230</td>\n",
              "      <td>161</td>\n",
              "      <td>171</td>\n",
              "      <td>228</td>\n",
              "      <td>162</td>\n",
              "      <td>171</td>\n",
              "      <td>não é câncer</td>\n",
              "    </tr>\n",
              "    <tr>\n",
              "      <th>4</th>\n",
              "      <td>153</td>\n",
              "      <td>123</td>\n",
              "      <td>123</td>\n",
              "      <td>168</td>\n",
              "      <td>140</td>\n",
              "      <td>148</td>\n",
              "      <td>179</td>\n",
              "      <td>154</td>\n",
              "      <td>167</td>\n",
              "      <td>182</td>\n",
              "      <td>...</td>\n",
              "      <td>170</td>\n",
              "      <td>144</td>\n",
              "      <td>143</td>\n",
              "      <td>162</td>\n",
              "      <td>137</td>\n",
              "      <td>134</td>\n",
              "      <td>154</td>\n",
              "      <td>131</td>\n",
              "      <td>134</td>\n",
              "      <td>é câncer</td>\n",
              "    </tr>\n",
              "  </tbody>\n",
              "</table>\n",
              "<p>5 rows × 7501 columns</p>\n",
              "</div>\n",
              "    <div class=\"colab-df-buttons\">\n",
              "\n",
              "  <div class=\"colab-df-container\">\n",
              "    <button class=\"colab-df-convert\" onclick=\"convertToInteractive('df-40597d82-1985-4479-99b4-0ed21b62dea6')\"\n",
              "            title=\"Convert this dataframe to an interactive table.\"\n",
              "            style=\"display:none;\">\n",
              "\n",
              "  <svg xmlns=\"http://www.w3.org/2000/svg\" height=\"24px\" viewBox=\"0 -960 960 960\">\n",
              "    <path d=\"M120-120v-720h720v720H120Zm60-500h600v-160H180v160Zm220 220h160v-160H400v160Zm0 220h160v-160H400v160ZM180-400h160v-160H180v160Zm440 0h160v-160H620v160ZM180-180h160v-160H180v160Zm440 0h160v-160H620v160Z\"/>\n",
              "  </svg>\n",
              "    </button>\n",
              "\n",
              "  <style>\n",
              "    .colab-df-container {\n",
              "      display:flex;\n",
              "      gap: 12px;\n",
              "    }\n",
              "\n",
              "    .colab-df-convert {\n",
              "      background-color: #E8F0FE;\n",
              "      border: none;\n",
              "      border-radius: 50%;\n",
              "      cursor: pointer;\n",
              "      display: none;\n",
              "      fill: #1967D2;\n",
              "      height: 32px;\n",
              "      padding: 0 0 0 0;\n",
              "      width: 32px;\n",
              "    }\n",
              "\n",
              "    .colab-df-convert:hover {\n",
              "      background-color: #E2EBFA;\n",
              "      box-shadow: 0px 1px 2px rgba(60, 64, 67, 0.3), 0px 1px 3px 1px rgba(60, 64, 67, 0.15);\n",
              "      fill: #174EA6;\n",
              "    }\n",
              "\n",
              "    .colab-df-buttons div {\n",
              "      margin-bottom: 4px;\n",
              "    }\n",
              "\n",
              "    [theme=dark] .colab-df-convert {\n",
              "      background-color: #3B4455;\n",
              "      fill: #D2E3FC;\n",
              "    }\n",
              "\n",
              "    [theme=dark] .colab-df-convert:hover {\n",
              "      background-color: #434B5C;\n",
              "      box-shadow: 0px 1px 3px 1px rgba(0, 0, 0, 0.15);\n",
              "      filter: drop-shadow(0px 1px 2px rgba(0, 0, 0, 0.3));\n",
              "      fill: #FFFFFF;\n",
              "    }\n",
              "  </style>\n",
              "\n",
              "    <script>\n",
              "      const buttonEl =\n",
              "        document.querySelector('#df-40597d82-1985-4479-99b4-0ed21b62dea6 button.colab-df-convert');\n",
              "      buttonEl.style.display =\n",
              "        google.colab.kernel.accessAllowed ? 'block' : 'none';\n",
              "\n",
              "      async function convertToInteractive(key) {\n",
              "        const element = document.querySelector('#df-40597d82-1985-4479-99b4-0ed21b62dea6');\n",
              "        const dataTable =\n",
              "          await google.colab.kernel.invokeFunction('convertToInteractive',\n",
              "                                                    [key], {});\n",
              "        if (!dataTable) return;\n",
              "\n",
              "        const docLinkHtml = 'Like what you see? Visit the ' +\n",
              "          '<a target=\"_blank\" href=https://colab.research.google.com/notebooks/data_table.ipynb>data table notebook</a>'\n",
              "          + ' to learn more about interactive tables.';\n",
              "        element.innerHTML = '';\n",
              "        dataTable['output_type'] = 'display_data';\n",
              "        await google.colab.output.renderOutput(dataTable, element);\n",
              "        const docLink = document.createElement('div');\n",
              "        docLink.innerHTML = docLinkHtml;\n",
              "        element.appendChild(docLink);\n",
              "      }\n",
              "    </script>\n",
              "  </div>\n",
              "\n",
              "\n",
              "<div id=\"df-ab3d9bdf-9f31-4d01-96da-c2454d6a0133\">\n",
              "  <button class=\"colab-df-quickchart\" onclick=\"quickchart('df-ab3d9bdf-9f31-4d01-96da-c2454d6a0133')\"\n",
              "            title=\"Suggest charts\"\n",
              "            style=\"display:none;\">\n",
              "\n",
              "<svg xmlns=\"http://www.w3.org/2000/svg\" height=\"24px\"viewBox=\"0 0 24 24\"\n",
              "     width=\"24px\">\n",
              "    <g>\n",
              "        <path d=\"M19 3H5c-1.1 0-2 .9-2 2v14c0 1.1.9 2 2 2h14c1.1 0 2-.9 2-2V5c0-1.1-.9-2-2-2zM9 17H7v-7h2v7zm4 0h-2V7h2v10zm4 0h-2v-4h2v4z\"/>\n",
              "    </g>\n",
              "</svg>\n",
              "  </button>\n",
              "\n",
              "<style>\n",
              "  .colab-df-quickchart {\n",
              "      --bg-color: #E8F0FE;\n",
              "      --fill-color: #1967D2;\n",
              "      --hover-bg-color: #E2EBFA;\n",
              "      --hover-fill-color: #174EA6;\n",
              "      --disabled-fill-color: #AAA;\n",
              "      --disabled-bg-color: #DDD;\n",
              "  }\n",
              "\n",
              "  [theme=dark] .colab-df-quickchart {\n",
              "      --bg-color: #3B4455;\n",
              "      --fill-color: #D2E3FC;\n",
              "      --hover-bg-color: #434B5C;\n",
              "      --hover-fill-color: #FFFFFF;\n",
              "      --disabled-bg-color: #3B4455;\n",
              "      --disabled-fill-color: #666;\n",
              "  }\n",
              "\n",
              "  .colab-df-quickchart {\n",
              "    background-color: var(--bg-color);\n",
              "    border: none;\n",
              "    border-radius: 50%;\n",
              "    cursor: pointer;\n",
              "    display: none;\n",
              "    fill: var(--fill-color);\n",
              "    height: 32px;\n",
              "    padding: 0;\n",
              "    width: 32px;\n",
              "  }\n",
              "\n",
              "  .colab-df-quickchart:hover {\n",
              "    background-color: var(--hover-bg-color);\n",
              "    box-shadow: 0 1px 2px rgba(60, 64, 67, 0.3), 0 1px 3px 1px rgba(60, 64, 67, 0.15);\n",
              "    fill: var(--button-hover-fill-color);\n",
              "  }\n",
              "\n",
              "  .colab-df-quickchart-complete:disabled,\n",
              "  .colab-df-quickchart-complete:disabled:hover {\n",
              "    background-color: var(--disabled-bg-color);\n",
              "    fill: var(--disabled-fill-color);\n",
              "    box-shadow: none;\n",
              "  }\n",
              "\n",
              "  .colab-df-spinner {\n",
              "    border: 2px solid var(--fill-color);\n",
              "    border-color: transparent;\n",
              "    border-bottom-color: var(--fill-color);\n",
              "    animation:\n",
              "      spin 1s steps(1) infinite;\n",
              "  }\n",
              "\n",
              "  @keyframes spin {\n",
              "    0% {\n",
              "      border-color: transparent;\n",
              "      border-bottom-color: var(--fill-color);\n",
              "      border-left-color: var(--fill-color);\n",
              "    }\n",
              "    20% {\n",
              "      border-color: transparent;\n",
              "      border-left-color: var(--fill-color);\n",
              "      border-top-color: var(--fill-color);\n",
              "    }\n",
              "    30% {\n",
              "      border-color: transparent;\n",
              "      border-left-color: var(--fill-color);\n",
              "      border-top-color: var(--fill-color);\n",
              "      border-right-color: var(--fill-color);\n",
              "    }\n",
              "    40% {\n",
              "      border-color: transparent;\n",
              "      border-right-color: var(--fill-color);\n",
              "      border-top-color: var(--fill-color);\n",
              "    }\n",
              "    60% {\n",
              "      border-color: transparent;\n",
              "      border-right-color: var(--fill-color);\n",
              "    }\n",
              "    80% {\n",
              "      border-color: transparent;\n",
              "      border-right-color: var(--fill-color);\n",
              "      border-bottom-color: var(--fill-color);\n",
              "    }\n",
              "    90% {\n",
              "      border-color: transparent;\n",
              "      border-bottom-color: var(--fill-color);\n",
              "    }\n",
              "  }\n",
              "</style>\n",
              "\n",
              "  <script>\n",
              "    async function quickchart(key) {\n",
              "      const quickchartButtonEl =\n",
              "        document.querySelector('#' + key + ' button');\n",
              "      quickchartButtonEl.disabled = true;  // To prevent multiple clicks.\n",
              "      quickchartButtonEl.classList.add('colab-df-spinner');\n",
              "      try {\n",
              "        const charts = await google.colab.kernel.invokeFunction(\n",
              "            'suggestCharts', [key], {});\n",
              "      } catch (error) {\n",
              "        console.error('Error during call to suggestCharts:', error);\n",
              "      }\n",
              "      quickchartButtonEl.classList.remove('colab-df-spinner');\n",
              "      quickchartButtonEl.classList.add('colab-df-quickchart-complete');\n",
              "    }\n",
              "    (() => {\n",
              "      let quickchartButtonEl =\n",
              "        document.querySelector('#df-ab3d9bdf-9f31-4d01-96da-c2454d6a0133 button');\n",
              "      quickchartButtonEl.style.display =\n",
              "        google.colab.kernel.accessAllowed ? 'block' : 'none';\n",
              "    })();\n",
              "  </script>\n",
              "</div>\n",
              "\n",
              "    </div>\n",
              "  </div>\n"
            ],
            "application/vnd.google.colaboratory.intrinsic+json": {
              "type": "dataframe",
              "variable_name": "df_test_true"
            }
          },
          "metadata": {},
          "execution_count": 24
        }
      ]
    },
    {
      "cell_type": "code",
      "source": [
        "df_validation_true.head()"
      ],
      "metadata": {
        "id": "4jQVW3Aqs7KH",
        "colab": {
          "base_uri": "https://localhost:8080/",
          "height": 342
        },
        "outputId": "abac12b3-e379-4a65-9fe2-415a6c81bd30"
      },
      "execution_count": 25,
      "outputs": [
        {
          "output_type": "execute_result",
          "data": {
            "text/plain": [
              "   pixel_0  pixel_1  pixel_2  pixel_3  pixel_4  pixel_5  pixel_6  pixel_7  \\\n",
              "0      223      158      158      225      161      163      225      162   \n",
              "1      191      169      180      191      169      180      195      176   \n",
              "2      236      181      178      235      184      183      237      187   \n",
              "3      212      131      129      214      133      133      215      130   \n",
              "4      183      116      105      185      121      110      193      140   \n",
              "\n",
              "   pixel_8  pixel_9  ...  pixel_7491  pixel_7492  pixel_7493  pixel_7494  \\\n",
              "0      163      226  ...         212         149         145         212   \n",
              "1      190      201  ...         180         163         179         177   \n",
              "2      188      239  ...         235         171         170         234   \n",
              "3      129      216  ...         204         134         129         204   \n",
              "4      143      196  ...         171         120         125         156   \n",
              "\n",
              "   pixel_7495  pixel_7496  pixel_7497  pixel_7498  pixel_7499         label  \n",
              "0         150         148         209         148         143  não é câncer  \n",
              "1         159         174         176         159         175  não é câncer  \n",
              "2         164         160         234         164         162      é câncer  \n",
              "3         136         135         200         137         131  não é câncer  \n",
              "4         111         118         136          90          95  não é câncer  \n",
              "\n",
              "[5 rows x 7501 columns]"
            ],
            "text/html": [
              "\n",
              "  <div id=\"df-bdbcc25f-0388-49f8-bd0e-119095793cfe\" class=\"colab-df-container\">\n",
              "    <div>\n",
              "<style scoped>\n",
              "    .dataframe tbody tr th:only-of-type {\n",
              "        vertical-align: middle;\n",
              "    }\n",
              "\n",
              "    .dataframe tbody tr th {\n",
              "        vertical-align: top;\n",
              "    }\n",
              "\n",
              "    .dataframe thead th {\n",
              "        text-align: right;\n",
              "    }\n",
              "</style>\n",
              "<table border=\"1\" class=\"dataframe\">\n",
              "  <thead>\n",
              "    <tr style=\"text-align: right;\">\n",
              "      <th></th>\n",
              "      <th>pixel_0</th>\n",
              "      <th>pixel_1</th>\n",
              "      <th>pixel_2</th>\n",
              "      <th>pixel_3</th>\n",
              "      <th>pixel_4</th>\n",
              "      <th>pixel_5</th>\n",
              "      <th>pixel_6</th>\n",
              "      <th>pixel_7</th>\n",
              "      <th>pixel_8</th>\n",
              "      <th>pixel_9</th>\n",
              "      <th>...</th>\n",
              "      <th>pixel_7491</th>\n",
              "      <th>pixel_7492</th>\n",
              "      <th>pixel_7493</th>\n",
              "      <th>pixel_7494</th>\n",
              "      <th>pixel_7495</th>\n",
              "      <th>pixel_7496</th>\n",
              "      <th>pixel_7497</th>\n",
              "      <th>pixel_7498</th>\n",
              "      <th>pixel_7499</th>\n",
              "      <th>label</th>\n",
              "    </tr>\n",
              "  </thead>\n",
              "  <tbody>\n",
              "    <tr>\n",
              "      <th>0</th>\n",
              "      <td>223</td>\n",
              "      <td>158</td>\n",
              "      <td>158</td>\n",
              "      <td>225</td>\n",
              "      <td>161</td>\n",
              "      <td>163</td>\n",
              "      <td>225</td>\n",
              "      <td>162</td>\n",
              "      <td>163</td>\n",
              "      <td>226</td>\n",
              "      <td>...</td>\n",
              "      <td>212</td>\n",
              "      <td>149</td>\n",
              "      <td>145</td>\n",
              "      <td>212</td>\n",
              "      <td>150</td>\n",
              "      <td>148</td>\n",
              "      <td>209</td>\n",
              "      <td>148</td>\n",
              "      <td>143</td>\n",
              "      <td>não é câncer</td>\n",
              "    </tr>\n",
              "    <tr>\n",
              "      <th>1</th>\n",
              "      <td>191</td>\n",
              "      <td>169</td>\n",
              "      <td>180</td>\n",
              "      <td>191</td>\n",
              "      <td>169</td>\n",
              "      <td>180</td>\n",
              "      <td>195</td>\n",
              "      <td>176</td>\n",
              "      <td>190</td>\n",
              "      <td>201</td>\n",
              "      <td>...</td>\n",
              "      <td>180</td>\n",
              "      <td>163</td>\n",
              "      <td>179</td>\n",
              "      <td>177</td>\n",
              "      <td>159</td>\n",
              "      <td>174</td>\n",
              "      <td>176</td>\n",
              "      <td>159</td>\n",
              "      <td>175</td>\n",
              "      <td>não é câncer</td>\n",
              "    </tr>\n",
              "    <tr>\n",
              "      <th>2</th>\n",
              "      <td>236</td>\n",
              "      <td>181</td>\n",
              "      <td>178</td>\n",
              "      <td>235</td>\n",
              "      <td>184</td>\n",
              "      <td>183</td>\n",
              "      <td>237</td>\n",
              "      <td>187</td>\n",
              "      <td>188</td>\n",
              "      <td>239</td>\n",
              "      <td>...</td>\n",
              "      <td>235</td>\n",
              "      <td>171</td>\n",
              "      <td>170</td>\n",
              "      <td>234</td>\n",
              "      <td>164</td>\n",
              "      <td>160</td>\n",
              "      <td>234</td>\n",
              "      <td>164</td>\n",
              "      <td>162</td>\n",
              "      <td>é câncer</td>\n",
              "    </tr>\n",
              "    <tr>\n",
              "      <th>3</th>\n",
              "      <td>212</td>\n",
              "      <td>131</td>\n",
              "      <td>129</td>\n",
              "      <td>214</td>\n",
              "      <td>133</td>\n",
              "      <td>133</td>\n",
              "      <td>215</td>\n",
              "      <td>130</td>\n",
              "      <td>129</td>\n",
              "      <td>216</td>\n",
              "      <td>...</td>\n",
              "      <td>204</td>\n",
              "      <td>134</td>\n",
              "      <td>129</td>\n",
              "      <td>204</td>\n",
              "      <td>136</td>\n",
              "      <td>135</td>\n",
              "      <td>200</td>\n",
              "      <td>137</td>\n",
              "      <td>131</td>\n",
              "      <td>não é câncer</td>\n",
              "    </tr>\n",
              "    <tr>\n",
              "      <th>4</th>\n",
              "      <td>183</td>\n",
              "      <td>116</td>\n",
              "      <td>105</td>\n",
              "      <td>185</td>\n",
              "      <td>121</td>\n",
              "      <td>110</td>\n",
              "      <td>193</td>\n",
              "      <td>140</td>\n",
              "      <td>143</td>\n",
              "      <td>196</td>\n",
              "      <td>...</td>\n",
              "      <td>171</td>\n",
              "      <td>120</td>\n",
              "      <td>125</td>\n",
              "      <td>156</td>\n",
              "      <td>111</td>\n",
              "      <td>118</td>\n",
              "      <td>136</td>\n",
              "      <td>90</td>\n",
              "      <td>95</td>\n",
              "      <td>não é câncer</td>\n",
              "    </tr>\n",
              "  </tbody>\n",
              "</table>\n",
              "<p>5 rows × 7501 columns</p>\n",
              "</div>\n",
              "    <div class=\"colab-df-buttons\">\n",
              "\n",
              "  <div class=\"colab-df-container\">\n",
              "    <button class=\"colab-df-convert\" onclick=\"convertToInteractive('df-bdbcc25f-0388-49f8-bd0e-119095793cfe')\"\n",
              "            title=\"Convert this dataframe to an interactive table.\"\n",
              "            style=\"display:none;\">\n",
              "\n",
              "  <svg xmlns=\"http://www.w3.org/2000/svg\" height=\"24px\" viewBox=\"0 -960 960 960\">\n",
              "    <path d=\"M120-120v-720h720v720H120Zm60-500h600v-160H180v160Zm220 220h160v-160H400v160Zm0 220h160v-160H400v160ZM180-400h160v-160H180v160Zm440 0h160v-160H620v160ZM180-180h160v-160H180v160Zm440 0h160v-160H620v160Z\"/>\n",
              "  </svg>\n",
              "    </button>\n",
              "\n",
              "  <style>\n",
              "    .colab-df-container {\n",
              "      display:flex;\n",
              "      gap: 12px;\n",
              "    }\n",
              "\n",
              "    .colab-df-convert {\n",
              "      background-color: #E8F0FE;\n",
              "      border: none;\n",
              "      border-radius: 50%;\n",
              "      cursor: pointer;\n",
              "      display: none;\n",
              "      fill: #1967D2;\n",
              "      height: 32px;\n",
              "      padding: 0 0 0 0;\n",
              "      width: 32px;\n",
              "    }\n",
              "\n",
              "    .colab-df-convert:hover {\n",
              "      background-color: #E2EBFA;\n",
              "      box-shadow: 0px 1px 2px rgba(60, 64, 67, 0.3), 0px 1px 3px 1px rgba(60, 64, 67, 0.15);\n",
              "      fill: #174EA6;\n",
              "    }\n",
              "\n",
              "    .colab-df-buttons div {\n",
              "      margin-bottom: 4px;\n",
              "    }\n",
              "\n",
              "    [theme=dark] .colab-df-convert {\n",
              "      background-color: #3B4455;\n",
              "      fill: #D2E3FC;\n",
              "    }\n",
              "\n",
              "    [theme=dark] .colab-df-convert:hover {\n",
              "      background-color: #434B5C;\n",
              "      box-shadow: 0px 1px 3px 1px rgba(0, 0, 0, 0.15);\n",
              "      filter: drop-shadow(0px 1px 2px rgba(0, 0, 0, 0.3));\n",
              "      fill: #FFFFFF;\n",
              "    }\n",
              "  </style>\n",
              "\n",
              "    <script>\n",
              "      const buttonEl =\n",
              "        document.querySelector('#df-bdbcc25f-0388-49f8-bd0e-119095793cfe button.colab-df-convert');\n",
              "      buttonEl.style.display =\n",
              "        google.colab.kernel.accessAllowed ? 'block' : 'none';\n",
              "\n",
              "      async function convertToInteractive(key) {\n",
              "        const element = document.querySelector('#df-bdbcc25f-0388-49f8-bd0e-119095793cfe');\n",
              "        const dataTable =\n",
              "          await google.colab.kernel.invokeFunction('convertToInteractive',\n",
              "                                                    [key], {});\n",
              "        if (!dataTable) return;\n",
              "\n",
              "        const docLinkHtml = 'Like what you see? Visit the ' +\n",
              "          '<a target=\"_blank\" href=https://colab.research.google.com/notebooks/data_table.ipynb>data table notebook</a>'\n",
              "          + ' to learn more about interactive tables.';\n",
              "        element.innerHTML = '';\n",
              "        dataTable['output_type'] = 'display_data';\n",
              "        await google.colab.output.renderOutput(dataTable, element);\n",
              "        const docLink = document.createElement('div');\n",
              "        docLink.innerHTML = docLinkHtml;\n",
              "        element.appendChild(docLink);\n",
              "      }\n",
              "    </script>\n",
              "  </div>\n",
              "\n",
              "\n",
              "<div id=\"df-f2e5589c-4a8f-4de0-a77d-1343d179f74e\">\n",
              "  <button class=\"colab-df-quickchart\" onclick=\"quickchart('df-f2e5589c-4a8f-4de0-a77d-1343d179f74e')\"\n",
              "            title=\"Suggest charts\"\n",
              "            style=\"display:none;\">\n",
              "\n",
              "<svg xmlns=\"http://www.w3.org/2000/svg\" height=\"24px\"viewBox=\"0 0 24 24\"\n",
              "     width=\"24px\">\n",
              "    <g>\n",
              "        <path d=\"M19 3H5c-1.1 0-2 .9-2 2v14c0 1.1.9 2 2 2h14c1.1 0 2-.9 2-2V5c0-1.1-.9-2-2-2zM9 17H7v-7h2v7zm4 0h-2V7h2v10zm4 0h-2v-4h2v4z\"/>\n",
              "    </g>\n",
              "</svg>\n",
              "  </button>\n",
              "\n",
              "<style>\n",
              "  .colab-df-quickchart {\n",
              "      --bg-color: #E8F0FE;\n",
              "      --fill-color: #1967D2;\n",
              "      --hover-bg-color: #E2EBFA;\n",
              "      --hover-fill-color: #174EA6;\n",
              "      --disabled-fill-color: #AAA;\n",
              "      --disabled-bg-color: #DDD;\n",
              "  }\n",
              "\n",
              "  [theme=dark] .colab-df-quickchart {\n",
              "      --bg-color: #3B4455;\n",
              "      --fill-color: #D2E3FC;\n",
              "      --hover-bg-color: #434B5C;\n",
              "      --hover-fill-color: #FFFFFF;\n",
              "      --disabled-bg-color: #3B4455;\n",
              "      --disabled-fill-color: #666;\n",
              "  }\n",
              "\n",
              "  .colab-df-quickchart {\n",
              "    background-color: var(--bg-color);\n",
              "    border: none;\n",
              "    border-radius: 50%;\n",
              "    cursor: pointer;\n",
              "    display: none;\n",
              "    fill: var(--fill-color);\n",
              "    height: 32px;\n",
              "    padding: 0;\n",
              "    width: 32px;\n",
              "  }\n",
              "\n",
              "  .colab-df-quickchart:hover {\n",
              "    background-color: var(--hover-bg-color);\n",
              "    box-shadow: 0 1px 2px rgba(60, 64, 67, 0.3), 0 1px 3px 1px rgba(60, 64, 67, 0.15);\n",
              "    fill: var(--button-hover-fill-color);\n",
              "  }\n",
              "\n",
              "  .colab-df-quickchart-complete:disabled,\n",
              "  .colab-df-quickchart-complete:disabled:hover {\n",
              "    background-color: var(--disabled-bg-color);\n",
              "    fill: var(--disabled-fill-color);\n",
              "    box-shadow: none;\n",
              "  }\n",
              "\n",
              "  .colab-df-spinner {\n",
              "    border: 2px solid var(--fill-color);\n",
              "    border-color: transparent;\n",
              "    border-bottom-color: var(--fill-color);\n",
              "    animation:\n",
              "      spin 1s steps(1) infinite;\n",
              "  }\n",
              "\n",
              "  @keyframes spin {\n",
              "    0% {\n",
              "      border-color: transparent;\n",
              "      border-bottom-color: var(--fill-color);\n",
              "      border-left-color: var(--fill-color);\n",
              "    }\n",
              "    20% {\n",
              "      border-color: transparent;\n",
              "      border-left-color: var(--fill-color);\n",
              "      border-top-color: var(--fill-color);\n",
              "    }\n",
              "    30% {\n",
              "      border-color: transparent;\n",
              "      border-left-color: var(--fill-color);\n",
              "      border-top-color: var(--fill-color);\n",
              "      border-right-color: var(--fill-color);\n",
              "    }\n",
              "    40% {\n",
              "      border-color: transparent;\n",
              "      border-right-color: var(--fill-color);\n",
              "      border-top-color: var(--fill-color);\n",
              "    }\n",
              "    60% {\n",
              "      border-color: transparent;\n",
              "      border-right-color: var(--fill-color);\n",
              "    }\n",
              "    80% {\n",
              "      border-color: transparent;\n",
              "      border-right-color: var(--fill-color);\n",
              "      border-bottom-color: var(--fill-color);\n",
              "    }\n",
              "    90% {\n",
              "      border-color: transparent;\n",
              "      border-bottom-color: var(--fill-color);\n",
              "    }\n",
              "  }\n",
              "</style>\n",
              "\n",
              "  <script>\n",
              "    async function quickchart(key) {\n",
              "      const quickchartButtonEl =\n",
              "        document.querySelector('#' + key + ' button');\n",
              "      quickchartButtonEl.disabled = true;  // To prevent multiple clicks.\n",
              "      quickchartButtonEl.classList.add('colab-df-spinner');\n",
              "      try {\n",
              "        const charts = await google.colab.kernel.invokeFunction(\n",
              "            'suggestCharts', [key], {});\n",
              "      } catch (error) {\n",
              "        console.error('Error during call to suggestCharts:', error);\n",
              "      }\n",
              "      quickchartButtonEl.classList.remove('colab-df-spinner');\n",
              "      quickchartButtonEl.classList.add('colab-df-quickchart-complete');\n",
              "    }\n",
              "    (() => {\n",
              "      let quickchartButtonEl =\n",
              "        document.querySelector('#df-f2e5589c-4a8f-4de0-a77d-1343d179f74e button');\n",
              "      quickchartButtonEl.style.display =\n",
              "        google.colab.kernel.accessAllowed ? 'block' : 'none';\n",
              "    })();\n",
              "  </script>\n",
              "</div>\n",
              "\n",
              "    </div>\n",
              "  </div>\n"
            ],
            "application/vnd.google.colaboratory.intrinsic+json": {
              "type": "dataframe",
              "variable_name": "df_validation_true"
            }
          },
          "metadata": {},
          "execution_count": 25
        }
      ]
    },
    {
      "cell_type": "code",
      "source": [
        "df_train_true.shape"
      ],
      "metadata": {
        "id": "gGcEecOqgC9f",
        "colab": {
          "base_uri": "https://localhost:8080/"
        },
        "outputId": "9f3cc796-76ae-42d9-d7f0-eae206d97af0"
      },
      "execution_count": 26,
      "outputs": [
        {
          "output_type": "execute_result",
          "data": {
            "text/plain": [
              "(5000, 7501)"
            ]
          },
          "metadata": {},
          "execution_count": 26
        }
      ]
    },
    {
      "cell_type": "code",
      "source": [
        "df_test_true.shape"
      ],
      "metadata": {
        "id": "LomZ3QuWoxNJ",
        "colab": {
          "base_uri": "https://localhost:8080/"
        },
        "outputId": "2adeb27a-8406-4914-97c1-f696111903f1"
      },
      "execution_count": 27,
      "outputs": [
        {
          "output_type": "execute_result",
          "data": {
            "text/plain": [
              "(1248, 7501)"
            ]
          },
          "metadata": {},
          "execution_count": 27
        }
      ]
    },
    {
      "cell_type": "code",
      "source": [
        "df_validation_true.shape"
      ],
      "metadata": {
        "id": "e9-UJVTlo1y3",
        "colab": {
          "base_uri": "https://localhost:8080/"
        },
        "outputId": "411d8bf2-4138-4caf-ffc6-fdd220c5f1c0"
      },
      "execution_count": 28,
      "outputs": [
        {
          "output_type": "execute_result",
          "data": {
            "text/plain": [
              "(1250, 7501)"
            ]
          },
          "metadata": {},
          "execution_count": 28
        }
      ]
    },
    {
      "cell_type": "markdown",
      "source": [
        "# Normalização do dataset e mapeamento do target (num_class)"
      ],
      "metadata": {
        "id": "595jW2oApoML"
      }
    },
    {
      "cell_type": "code",
      "source": [
        "# Fazer mapping para trocar string por numeros\n",
        "label_dict = {'é câncer':1,'não é câncer':0}\n",
        "\n",
        "df_train_true_label = df_train_true.copy()\n",
        "df_train_true_label['label'] = df_train_true_label['label'].map(label_dict)\n",
        "\n",
        "df_test_true_label = df_test_true.copy()\n",
        "df_test_true_label['label'] = df_test_true_label['label'].map(label_dict)\n",
        "\n",
        "df_validation_true_label = df_validation_true.copy()\n",
        "df_validation_true_label['label'] = df_validation_true_label['label'].map(label_dict)\n"
      ],
      "metadata": {
        "id": "87N7LI-4yCXu"
      },
      "execution_count": 29,
      "outputs": []
    },
    {
      "cell_type": "code",
      "source": [
        "# Obter as classes únicas do conjunto de dados\n",
        "classes = set(df_train_true_label['label'])\n",
        "\n",
        "plt.figure(0, figsize=(20,10))\n",
        "\n",
        "# Iterar sobre cada classe\n",
        "for c in classes:\n",
        "    idx = np.where(df_train_true_label['label'] == c)\n",
        "    if c + 1 == 10:\n",
        "        break\n",
        "    plt.subplot(430 + 1 +c)\n",
        "    plt.imshow(df_train_true_label.drop('label', axis=1).iloc[idx[0][0]].values.reshape((50, 50, 3)))\n",
        "    plt.text(0, 0, f'Class: {c}', color='white', backgroundcolor='black', fontsize=8)\n",
        "\n",
        "plt.show()\n"
      ],
      "metadata": {
        "colab": {
          "base_uri": "https://localhost:8080/",
          "height": 234
        },
        "id": "raw25QGowYZN",
        "outputId": "4acb3db8-c31a-470b-f8ff-2494a0dc5c34"
      },
      "execution_count": 30,
      "outputs": [
        {
          "output_type": "display_data",
          "data": {
            "text/plain": [
              "<Figure size 2000x1000 with 2 Axes>"
            ],
            "image/png": "[encoded data removed]"
          },
          "metadata": {}
        }
      ]
    },
    {
      "cell_type": "markdown",
      "source": [
        "# Normalização do dataset e mapeamento do target (num_class)"
      ],
      "metadata": {
        "id": "U4S2GhfaJMnh"
      }
    },
    {
      "cell_type": "code",
      "source": [
        "\n",
        "#Extração dos dfs de treino,teste e valição e suas respectivas labels\n",
        "x_train = df_train_true_label.drop('label',axis=1).values\n",
        "y_train = df_train_true_label['label'].values\n",
        "\n",
        "x_test = df_test_true_label.drop('label',axis=1).values\n",
        "y_test = df_test_true_label['label'].values\n",
        "\n",
        "x_valid = df_validation_true_label.drop('label',axis=1).values\n",
        "y_valid = df_validation_true_label['label'].values\n"
      ],
      "metadata": {
        "id": "mVhLVBySpzCn"
      },
      "execution_count": 31,
      "outputs": []
    },
    {
      "cell_type": "code",
      "source": [
        "#Normalização das features, colocando-as entre 0 e 1\n",
        "x_train = x_train.astype('float32') / 255\n",
        "x_test = x_test.astype('float32') / 255\n",
        "x_valid = x_valid.astype('float32') / 255"
      ],
      "metadata": {
        "id": "aTKsG4Dt7Zsl"
      },
      "execution_count": 32,
      "outputs": []
    },
    {
      "cell_type": "code",
      "source": [
        "x_train"
      ],
      "metadata": {
        "colab": {
          "base_uri": "https://localhost:8080/"
        },
        "id": "nlsMvc_A7uPg",
        "outputId": "72836327-1990-4e6e-c4fe-4b10a5e9baf3"
      },
      "execution_count": 33,
      "outputs": [
        {
          "output_type": "execute_result",
          "data": {
            "text/plain": [
              "array([[0.7019608 , 0.5921569 , 0.69411767, ..., 0.73333335, 0.6156863 ,\n",
              "        0.68235296],\n",
              "       [0.22352941, 0.14509805, 0.15686275, ..., 0.1764706 , 0.10588235,\n",
              "        0.1254902 ],\n",
              "       [0.01176471, 0.01176471, 0.00392157, ..., 0.49803922, 0.40784314,\n",
              "        0.40392157],\n",
              "       ...,\n",
              "       [0.8980392 , 0.65882355, 0.70980394, ..., 0.84705883, 0.65882355,\n",
              "        0.64705884],\n",
              "       [0.8117647 , 0.7254902 , 0.69803923, ..., 0.56078434, 0.43529412,\n",
              "        0.39215687],\n",
              "       [0.93333334, 0.6156863 , 0.6862745 , ..., 0.7372549 , 0.39607844,\n",
              "        0.41960785]], dtype=float32)"
            ]
          },
          "metadata": {},
          "execution_count": 33
        }
      ]
    },
    {
      "cell_type": "code",
      "source": [
        "x_test"
      ],
      "metadata": {
        "colab": {
          "base_uri": "https://localhost:8080/"
        },
        "id": "Nx8ECqpl7wEH",
        "outputId": "f7d44cdf-db28-48d1-d5f5-b445c54d27a1"
      },
      "execution_count": 34,
      "outputs": [
        {
          "output_type": "execute_result",
          "data": {
            "text/plain": [
              "array([[0.9137255 , 0.58431375, 0.67058825, ..., 0.8627451 , 0.57254905,\n",
              "        0.627451  ],\n",
              "       [0.9372549 , 0.6901961 , 0.70980394, ..., 0.88235295, 0.69411767,\n",
              "        0.68235296],\n",
              "       [0.7137255 , 0.6       , 0.6392157 , ..., 0.78039217, 0.5882353 ,\n",
              "        0.58431375],\n",
              "       ...,\n",
              "       [0.63529414, 0.47058824, 0.49803922, ..., 0.65882355, 0.49803922,\n",
              "        0.5254902 ],\n",
              "       [0.70980394, 0.53333336, 0.5529412 , ..., 0.6039216 , 0.3882353 ,\n",
              "        0.43529412],\n",
              "       [0.5372549 , 0.4392157 , 0.4509804 , ..., 0.6039216 , 0.53333336,\n",
              "        0.53333336]], dtype=float32)"
            ]
          },
          "metadata": {},
          "execution_count": 34
        }
      ]
    },
    {
      "cell_type": "code",
      "source": [
        "x_valid"
      ],
      "metadata": {
        "colab": {
          "base_uri": "https://localhost:8080/"
        },
        "id": "h7XLVBiX7xfJ",
        "outputId": "7a254702-1d92-49c6-8481-50f182d0e070"
      },
      "execution_count": 35,
      "outputs": [
        {
          "output_type": "execute_result",
          "data": {
            "text/plain": [
              "array([[0.8745098 , 0.61960787, 0.61960787, ..., 0.81960785, 0.5803922 ,\n",
              "        0.56078434],\n",
              "       [0.7490196 , 0.6627451 , 0.7058824 , ..., 0.6901961 , 0.62352943,\n",
              "        0.6862745 ],\n",
              "       [0.9254902 , 0.70980394, 0.69803923, ..., 0.91764706, 0.6431373 ,\n",
              "        0.63529414],\n",
              "       ...,\n",
              "       [0.8352941 , 0.7490196 , 0.84705883, ..., 0.8117647 , 0.72156864,\n",
              "        0.7921569 ],\n",
              "       [0.6745098 , 0.46666667, 0.44313726, ..., 0.7529412 , 0.60784316,\n",
              "        0.59607846],\n",
              "       [0.16078432, 0.08235294, 0.09411765, ..., 0.21960784, 0.11764706,\n",
              "        0.11764706]], dtype=float32)"
            ]
          },
          "metadata": {},
          "execution_count": 35
        }
      ]
    },
    {
      "cell_type": "code",
      "source": [
        "# Número de pixels por imagem\n",
        "num_pixels = 7500  # Ou seja, 50x50x3\n",
        "\n",
        "# Redimensionar os dados para tensores 3D\n",
        "x_train_3d = x_train.reshape(x_train.shape[0], 50, 50, 3)\n",
        "x_test_3d = x_test.reshape(x_test.shape[0], 50, 50, 3)\n",
        "x_valid_3d = x_valid.reshape(x_valid.shape[0], 50, 50, 3)\n"
      ],
      "metadata": {
        "id": "36ah09LbTm1P"
      },
      "execution_count": 36,
      "outputs": []
    },
    {
      "cell_type": "code",
      "source": [
        "x_train.shape[0]"
      ],
      "metadata": {
        "colab": {
          "base_uri": "https://localhost:8080/"
        },
        "id": "CF4n7aSXUMOa",
        "outputId": "a20049c4-6f6b-4d73-e15b-170d4378fd93"
      },
      "execution_count": 37,
      "outputs": [
        {
          "output_type": "execute_result",
          "data": {
            "text/plain": [
              "5000"
            ]
          },
          "metadata": {},
          "execution_count": 37
        }
      ]
    },
    {
      "cell_type": "code",
      "source": [
        "x_valid.shape[0]"
      ],
      "metadata": {
        "colab": {
          "base_uri": "https://localhost:8080/"
        },
        "id": "jJSqc4vWUERK",
        "outputId": "1b2d8308-5e5e-4558-faa9-9e0288e5516c"
      },
      "execution_count": 38,
      "outputs": [
        {
          "output_type": "execute_result",
          "data": {
            "text/plain": [
              "1250"
            ]
          },
          "metadata": {},
          "execution_count": 38
        }
      ]
    },
    {
      "cell_type": "code",
      "source": [
        "x_test.shape[0]"
      ],
      "metadata": {
        "colab": {
          "base_uri": "https://localhost:8080/"
        },
        "id": "DzbzYL6VUJ_K",
        "outputId": "673ac5e2-4c9c-4f0e-d9dc-27a87eae61a5"
      },
      "execution_count": 39,
      "outputs": [
        {
          "output_type": "execute_result",
          "data": {
            "text/plain": [
              "1248"
            ]
          },
          "metadata": {},
          "execution_count": 39
        }
      ]
    },
    {
      "cell_type": "code",
      "source": [
        "# Convertendo os rótulos verdadeiros para codificação one-hot\n",
        "y_train_one_hot = to_categorical(y_train, len(classes))\n",
        "y_test_one_hot = to_categorical(y_test, len(classes))\n",
        "y_valid_one_hot = to_categorical(y_valid, len(classes))"
      ],
      "metadata": {
        "id": "4fVRvXQs60PX"
      },
      "execution_count": 40,
      "outputs": []
    },
    {
      "cell_type": "code",
      "source": [
        "len(y_valid_one_hot)"
      ],
      "metadata": {
        "colab": {
          "base_uri": "https://localhost:8080/"
        },
        "id": "X_JK1XcS77cs",
        "outputId": "3b98bd7a-a8a1-44db-c06e-aff6bd47ced1"
      },
      "execution_count": 41,
      "outputs": [
        {
          "output_type": "execute_result",
          "data": {
            "text/plain": [
              "1250"
            ]
          },
          "metadata": {},
          "execution_count": 41
        }
      ]
    },
    {
      "cell_type": "markdown",
      "source": [
        "# Arquitetura da Rede Neural e Treino"
      ],
      "metadata": {
        "id": "DUuUAvZKqHx0"
      }
    },
    {
      "cell_type": "code",
      "source": [
        "\n",
        "# Definir o modelo\n",
        "model = Sequential()\n",
        "\n",
        "# Primeira camada convolucional\n",
        "model.add(Conv2D(32, (3, 3), activation='relu', padding='same', input_shape=(50, 50, 3)))\n",
        "model.add(MaxPooling2D(pool_size=(2, 2)))\n",
        "model.add(Dropout(0.25))\n",
        "\n",
        "\n",
        "# Segunda camada convolucional\n",
        "model.add(Conv2D(64, (3, 3), activation='relu', padding='same', input_shape=(50, 50, 3)))\n",
        "model.add(MaxPooling2D(pool_size=(2, 2)))\n",
        "model.add(Dropout(0.25))\n",
        "\n",
        "# Camada Flatten\n",
        "model.add(Flatten())\n",
        "\n",
        "# Camada densa\n",
        "model.add(Dense(32, activation='relu'))\n",
        "model.add(Dropout(0.25))\n",
        "\n",
        "# Camada de saída\n",
        "model.add(Dense(2, activation='softmax'))\n",
        "\n",
        "\n"
      ],
      "metadata": {
        "id": "8-eR1jIeClVN"
      },
      "execution_count": 42,
      "outputs": []
    },
    {
      "cell_type": "code",
      "source": [
        "from keras.utils import plot_model\n",
        "# Plotar o modelo\n",
        "plot_model(model, to_file='cnn-CHEST_X_RAY.png', show_shapes=True, show_layer_names=True)\n"
      ],
      "metadata": {
        "colab": {
          "base_uri": "https://localhost:8080/",
          "height": 1000
        },
        "id": "bddOuGhmN9g1",
        "outputId": "1b80701e-efef-47ff-e98c-785681dc492c"
      },
      "execution_count": 43,
      "outputs": [
        {
          "output_type": "execute_result",
          "data": {
            "image/png": "[encoded data removed]",
            "text/plain": [
              "<IPython.core.display.Image object>"
            ]
          },
          "metadata": {},
          "execution_count": 43
        }
      ]
    },
    {
      "cell_type": "code",
      "source": [
        "model.summary()"
      ],
      "metadata": {
        "colab": {
          "base_uri": "https://localhost:8080/"
        },
        "id": "cHHE_fFYOKyy",
        "outputId": "6b099d84-d589-4e8a-977b-74b698d0bf30"
      },
      "execution_count": 44,
      "outputs": [
        {
          "output_type": "stream",
          "name": "stdout",
          "text": [
            "Model: \"sequential\"\n",
            "_________________________________________________________________\n",
            " Layer (type)                Output Shape              Param #   \n",
            "=================================================================\n",
            " conv2d (Conv2D)             (None, 50, 50, 32)        896       \n",
            "                                                                 \n",
            " max_pooling2d (MaxPooling2  (None, 25, 25, 32)        0         \n",
            " D)                                                              \n",
            "                                                                 \n",
            " dropout (Dropout)           (None, 25, 25, 32)        0         \n",
            "                                                                 \n",
            " conv2d_1 (Conv2D)           (None, 25, 25, 64)        18496     \n",
            "                                                                 \n",
            " max_pooling2d_1 (MaxPoolin  (None, 12, 12, 64)        0         \n",
            " g2D)                                                            \n",
            "                                                                 \n",
            " dropout_1 (Dropout)         (None, 12, 12, 64)        0         \n",
            "                                                                 \n",
            " flatten (Flatten)           (None, 9216)              0         \n",
            "                                                                 \n",
            " dense (Dense)               (None, 32)                294944    \n",
            "                                                                 \n",
            " dropout_2 (Dropout)         (None, 32)                0         \n",
            "                                                                 \n",
            " dense_1 (Dense)             (None, 2)                 66        \n",
            "                                                                 \n",
            "=================================================================\n",
            "Total params: 314402 (1.20 MB)\n",
            "Trainable params: 314402 (1.20 MB)\n",
            "Non-trainable params: 0 (0.00 Byte)\n",
            "_________________________________________________________________\n"
          ]
        }
      ]
    },
    {
      "cell_type": "code",
      "source": [
        "model.compile(loss='categorical_crossentropy', optimizer='adam', metrics=['accuracy'])\n"
      ],
      "metadata": {
        "id": "VqSKX3RvOOVG"
      },
      "execution_count": 45,
      "outputs": []
    },
    {
      "cell_type": "code",
      "source": [
        "from keras.callbacks import ModelCheckpoint"
      ],
      "metadata": {
        "id": "dsj_XP9JOW_b"
      },
      "execution_count": 46,
      "outputs": []
    },
    {
      "cell_type": "code",
      "source": [
        "checkpointer = ModelCheckpoint(filepath='/content/drive/My Drive/modelos/CHEST_X_RAY.hdf5', verbose=1,  save_best_only=True, monitor='val_accuracy') #\n",
        "\n",
        "hist = model.fit(x_train_3d, y_train_one_hot, batch_size=200, epochs=5, validation_data=(x_valid_3d, y_valid_one_hot), callbacks=[checkpointer], verbose=1, shuffle=True)"
      ],
      "metadata": {
        "colab": {
          "base_uri": "https://localhost:8080/"
        },
        "id": "QHuKOOGIOYxC",
        "outputId": "feb8c66a-5178-420f-f8a7-0cfd708c151c"
      },
      "execution_count": 47,
      "outputs": [
        {
          "output_type": "stream",
          "name": "stdout",
          "text": [
            "Epoch 1/5\n",
            "25/25 [==============================] - ETA: 0s - loss: 0.6523 - accuracy: 0.7338\n",
            "Epoch 1: val_accuracy improved from -inf to 0.84240, saving model to /content/drive/My Drive/modelos/CHEST_X_RAY.hdf5\n"
          ]
        },
        {
          "output_type": "stream",
          "name": "stderr",
          "text": [
            "/usr/local/lib/python3.10/dist-packages/keras/src/engine/training.py:3103: UserWarning: You are saving your model as an HDF5 file via `model.save()`. This file format is considered legacy. We recommend using instead the native Keras format, e.g. `model.save('my_model.keras')`.\n",
            "  saving_api.save_model(\n"
          ]
        },
        {
          "output_type": "stream",
          "name": "stdout",
          "text": [
            "\b\b\b\b\b\b\b\b\b\b\b\b\b\b\b\b\b\b\b\b\b\b\b\b\b\b\b\b\b\b\b\b\b\b\b\b\b\b\b\b\b\b\b\b\b\b\b\b\b\b\b\b\b\b\b\b\b\b\b\b\b\b\b\b\b\b\b\b\b\b\b\b\b\b\b\b\b\b\b\b\b\b\r25/25 [==============================] - 22s 838ms/step - loss: 0.6523 - accuracy: 0.7338 - val_loss: 0.5306 - val_accuracy: 0.8424\n",
            "Epoch 2/5\n",
            "25/25 [==============================] - ETA: 0s - loss: 0.5038 - accuracy: 0.7886\n",
            "Epoch 2: val_accuracy did not improve from 0.84240\n",
            "25/25 [==============================] - 22s 877ms/step - loss: 0.5038 - accuracy: 0.7886 - val_loss: 0.5128 - val_accuracy: 0.8424\n",
            "Epoch 3/5\n",
            "25/25 [==============================] - ETA: 0s - loss: 0.4883 - accuracy: 0.7886\n",
            "Epoch 3: val_accuracy did not improve from 0.84240\n",
            "25/25 [==============================] - 19s 768ms/step - loss: 0.4883 - accuracy: 0.7886 - val_loss: 0.4438 - val_accuracy: 0.8424\n",
            "Epoch 4/5\n",
            "25/25 [==============================] - ETA: 0s - loss: 0.4769 - accuracy: 0.7886\n",
            "Epoch 4: val_accuracy did not improve from 0.84240\n",
            "25/25 [==============================] - 20s 820ms/step - loss: 0.4769 - accuracy: 0.7886 - val_loss: 0.4586 - val_accuracy: 0.8424\n",
            "Epoch 5/5\n",
            "25/25 [==============================] - ETA: 0s - loss: 0.4644 - accuracy: 0.7886\n",
            "Epoch 5: val_accuracy did not improve from 0.84240\n",
            "25/25 [==============================] - 20s 809ms/step - loss: 0.4644 - accuracy: 0.7886 - val_loss: 0.4106 - val_accuracy: 0.8424\n"
          ]
        }
      ]
    },
    {
      "cell_type": "markdown",
      "source": [
        "# Mostrar os resultados"
      ],
      "metadata": {
        "id": "wjhPzHJos93R"
      }
    },
    {
      "cell_type": "code",
      "source": [
        "model = load_model(\"/content/drive/My Drive/modelos/CHEST_X_RAY.hdf5\")"
      ],
      "metadata": {
        "id": "Zo8gVA1YYauI"
      },
      "execution_count": 48,
      "outputs": []
    },
    {
      "cell_type": "code",
      "source": [
        "score = model.evaluate(x_test_3d, y_test_one_hot, verbose=0)\n",
        "print('\\n', 'Test accuracy:', score[1])"
      ],
      "metadata": {
        "colab": {
          "base_uri": "https://localhost:8080/"
        },
        "id": "neSlwlQCYfOJ",
        "outputId": "c1ca3c82-1309-475e-f0fd-fbd2500e6e1d"
      },
      "execution_count": 49,
      "outputs": [
        {
          "output_type": "stream",
          "name": "stdout",
          "text": [
            "\n",
            " Test accuracy: 0.8413461446762085\n"
          ]
        }
      ]
    },
    {
      "cell_type": "code",
      "source": [
        "y_pred = model.predict(x_test_3d)"
      ],
      "metadata": {
        "colab": {
          "base_uri": "https://localhost:8080/"
        },
        "id": "ZgHNceT_Yh_A",
        "outputId": "ca2733b7-434a-4356-82b0-f49396dd0406"
      },
      "execution_count": 50,
      "outputs": [
        {
          "output_type": "stream",
          "name": "stdout",
          "text": [
            "39/39 [==============================] - 1s 29ms/step\n"
          ]
        }
      ]
    },
    {
      "cell_type": "code",
      "source": [
        "len(y_pred)"
      ],
      "metadata": {
        "colab": {
          "base_uri": "https://localhost:8080/"
        },
        "id": "Gwtz4J_ifdOL",
        "outputId": "7ec47d1c-cf87-422a-cb24-159dfdbe2591"
      },
      "execution_count": 51,
      "outputs": [
        {
          "output_type": "execute_result",
          "data": {
            "text/plain": [
              "1248"
            ]
          },
          "metadata": {},
          "execution_count": 51
        }
      ]
    },
    {
      "cell_type": "code",
      "source": [
        "y_test_one_hot"
      ],
      "metadata": {
        "colab": {
          "base_uri": "https://localhost:8080/"
        },
        "id": "ihkoMFTWfisp",
        "outputId": "5c6aa2a6-b128-49ac-d0f1-6af4f21af70b"
      },
      "execution_count": 52,
      "outputs": [
        {
          "output_type": "execute_result",
          "data": {
            "text/plain": [
              "array([[1., 0.],\n",
              "       [1., 0.],\n",
              "       [0., 1.],\n",
              "       ...,\n",
              "       [1., 0.],\n",
              "       [1., 0.],\n",
              "       [1., 0.]], dtype=float32)"
            ]
          },
          "metadata": {},
          "execution_count": 52
        }
      ]
    },
    {
      "cell_type": "code",
      "source": [
        "labels = ['not cancer', 'cancer']\n",
        "# Inicializar listas para armazenar os índices selecionados para cada classe\n",
        "indices_classe_0 = []\n",
        "indices_classe_1 = []\n",
        "\n",
        "# Iterar sobre os índices do conjunto de teste\n",
        "for idx in range(len(y_test_one_hot)):\n",
        "    # Verificar a classe da amostra correspondente ao índice\n",
        "    if np.argmax(y_test_one_hot[idx]) == 0 and len(indices_classe_0) < 5:\n",
        "        indices_classe_0.append(idx)\n",
        "    elif np.argmax(y_test_one_hot[idx]) == 1 and len(indices_classe_1) < 5:\n",
        "        indices_classe_1.append(idx)\n",
        "\n",
        "    # Verificar se já temos amostras suficientes de ambas as classes\n",
        "    if len(indices_classe_0) >= 5 and len(indices_classe_1) >= 5:\n",
        "        break\n",
        "\n",
        "# Selecionar 5 índices de cada classe\n",
        "indices_selecionados = indices_classe_0 + indices_classe_1\n",
        "\n",
        "# Embaralhar os índices selecionados\n",
        "np.random.shuffle(indices_selecionados)\n",
        "\n",
        "# Plotar as imagens correspondentes aos índices selecionados\n",
        "fig = plt.figure(figsize=(20, 8))\n",
        "for i, idx in enumerate(indices_selecionados):\n",
        "    ax = fig.add_subplot(2, 5, i + 1)\n",
        "    ax.imshow(np.squeeze(x_test_3d[idx]))\n",
        "    pred_label = labels[np.argmax(y_pred[idx])]\n",
        "    true_label = labels[np.argmax(y_test_one_hot[idx])]\n",
        "    ax.set_title(f'Predicted: {pred_label}\\nTrue: {true_label}', color=(\"green\" if pred_label == true_label else \"red\"))\n",
        "    ax.axis('off')\n",
        "\n",
        "plt.tight_layout()\n",
        "plt.show()\n"
      ],
      "metadata": {
        "colab": {
          "base_uri": "https://localhost:8080/",
          "height": 610
        },
        "id": "Om80WJBre0OT",
        "outputId": "788c744c-14f7-45c2-b66e-e72c3a655d71"
      },
      "execution_count": 53,
      "outputs": [
        {
          "output_type": "display_data",
          "data": {
            "text/plain": [
              "<Figure size 2000x800 with 10 Axes>"
            ],
            "image/png": "[encoded data removed]"
          },
          "metadata": {}
        }
      ]
    },
    {
      "cell_type": "code",
      "source": [
        "y_test_one_hot"
      ],
      "metadata": {
        "colab": {
          "base_uri": "https://localhost:8080/"
        },
        "id": "gO8o1vrw6L1R",
        "outputId": "4957c3c9-221c-4c61-d579-b373792f6355"
      },
      "execution_count": 54,
      "outputs": [
        {
          "output_type": "execute_result",
          "data": {
            "text/plain": [
              "array([[1., 0.],\n",
              "       [1., 0.],\n",
              "       [0., 1.],\n",
              "       ...,\n",
              "       [1., 0.],\n",
              "       [1., 0.],\n",
              "       [1., 0.]], dtype=float32)"
            ]
          },
          "metadata": {},
          "execution_count": 54
        }
      ]
    },
    {
      "cell_type": "code",
      "source": [
        "y_pred"
      ],
      "metadata": {
        "colab": {
          "base_uri": "https://localhost:8080/"
        },
        "id": "QZapol1J6FOM",
        "outputId": "811b67dc-dc2b-4c0a-914f-c8d809ac3ecd"
      },
      "execution_count": 55,
      "outputs": [
        {
          "output_type": "execute_result",
          "data": {
            "text/plain": [
              "array([[0.6529463 , 0.34705368],\n",
              "       [0.6653062 , 0.33469376],\n",
              "       [0.64168584, 0.3583141 ],\n",
              "       ...,\n",
              "       [0.6467037 , 0.3532964 ],\n",
              "       [0.63194346, 0.36805654],\n",
              "       [0.63366395, 0.3663361 ]], dtype=float32)"
            ]
          },
          "metadata": {},
          "execution_count": 55
        }
      ]
    }
  ]
}