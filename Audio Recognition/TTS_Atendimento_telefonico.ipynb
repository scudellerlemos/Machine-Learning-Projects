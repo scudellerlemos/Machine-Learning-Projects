{
  "cells": [
    {
      "cell_type": "markdown",
      "metadata": {
        "id": "NUrp0JnS8iqR"
      },
      "source": [
        "# Audio Recognition\n",
        "\n",
        "Chegou o momento da QuantumFinance dar voz ao seu atendimento digital. A ideia é permitir que um cliente interaja\n",
        "por meio de voz também e não somente por texto com a empresa.\n",
        "Dessa forma, será necessário implementar a vocalização de frases pré-determinadas (Text To Speech), para saudar e\n",
        "oferecer as opções ao cliente e Speech To Text para identificar a opção selecionada. Mais detalhes abaixo:\n",
        "\n",
        "## Entrega 1\n",
        "Gerar as frases para simular um atendimento telefônico, que deverá identificar a empresa, saudar o cliente e\n",
        "oferecer as opções a seguir: (1) Consulta ao saldo da conta, (2) Simulação de compra internacional, (3) Falar com um\n",
        "atendente e (4) Sair do atendimento.\n",
        "As frases devem ser geradas usando alguma das bibliotecas de TTS disponíveis, e armazenadas em arquivo para\n",
        "serem usadas dentro do loop. Gerar também as frases de resposta correspondentes para confirmar a identificação\n",
        "de cada opção. Por exemplo: “Você escolheu ‘’Falar com um atendente’’.”\n",
        "\n",
        "# Entrega 2\n",
        "Construir um loop que, uma vez iniciado, irá executar os áudios iniciais com as opções. Dentro do loop, o algoritmo\n",
        "deverá capturar o áudio do usuário usando alguma das bibliotecas de STT e tentar identificar a opção selecionada.\n",
        "Não é necessário usar nada avançado, uma busca por palavra-chave simples é suficiente.\n",
        "Uma vez que a opção seja identificada, o áudio de resposta correspondente deverá ser tocado.\n",
        "\n",
        "## Entrega 3\n",
        "Caso nenhuma opção tenha sido identificada, um áudio específico informando isso deverá ser executado e as opções\n",
        "deverão ser repetidas.\n",
        "\n",
        "## Entrega 4\n",
        "O loop deverá ser encerrado quando a opção “Sair do atendimento” for selecionada."
      ]
    },
    {
      "cell_type": "code",
      "execution_count": null,
      "metadata": {
        "colab": {
          "base_uri": "https://localhost:8080/"
        },
        "id": "N6ScsLcyjbp-",
        "outputId": "b9bbfa00-18a4-4cd7-eb5f-028c558c271d"
      },
      "outputs": [],
      "source": [
        "!pip install ffmpeg-python"
      ]
    },
    {
      "cell_type": "code",
      "execution_count": null,
      "metadata": {
        "colab": {
          "base_uri": "https://localhost:8080/"
        },
        "id": "9-YakpC2jhlg",
        "outputId": "87775c75-ab9a-437b-ab92-1154112a6a1b"
      },
      "outputs": [],
      "source": [
        "!pip install SpeechRecognition==3.8.1"
      ]
    },
    {
      "cell_type": "code",
      "execution_count": null,
      "metadata": {
        "colab": {
          "base_uri": "https://localhost:8080/"
        },
        "id": "yS4_lF6ZGDRH",
        "outputId": "bc323025-4a9b-4708-da54-595667bd1012"
      },
      "outputs": [],
      "source": [
        "!pip install gtts"
      ]
    },
    {
      "cell_type": "code",
      "execution_count": null,
      "metadata": {
        "id": "Gd3CO1a7jkyF"
      },
      "outputs": [],
      "source": [
        "import speech_recognition as sr"
      ]
    },
    {
      "cell_type": "code",
      "execution_count": null,
      "metadata": {
        "id": "DmoV1X0EjUXv"
      },
      "outputs": [],
      "source": [
        "from IPython.display import HTML, Audio,display\n",
        "import ffmpeg\n",
        "from time import sleep"
      ]
    },
    {
      "cell_type": "code",
      "execution_count": null,
      "metadata": {
        "id": "VIz5sGidBepH"
      },
      "outputs": [],
      "source": [
        "from google.colab.output import eval_js\n",
        "from base64 import b64decode\n",
        "import numpy as np\n",
        "from scipy.io.wavfile import read as wav_read\n",
        "import io\n",
        "from scipy.io.wavfile import write\n",
        "from gtts import gTTS,lang\n",
        "from numpy import lib\n",
        "import re"
      ]
    },
    {
      "cell_type": "code",
      "execution_count": null,
      "metadata": {
        "id": "dQZA8LlO6caQ"
      },
      "outputs": [],
      "source": [
        "\n",
        "AUDIO_HTML = \"\"\"\n",
        "<script>\n",
        "var my_div = document.createElement(\"DIV\");\n",
        "var my_p = document.createElement(\"P\");\n",
        "var my_btn = document.createElement(\"BUTTON\");\n",
        "var t = document.createTextNode(\"Press to start recording\");\n",
        "\n",
        "my_btn.appendChild(t);\n",
        "//my_p.appendChild(my_btn);\n",
        "my_div.appendChild(my_btn);\n",
        "document.body.appendChild(my_div);\n",
        "\n",
        "var base64data = 0;\n",
        "var reader;\n",
        "var recorder, gumStream;\n",
        "var recordButton = my_btn;\n",
        "\n",
        "var handleSuccess = function(stream) {\n",
        "  gumStream = stream;\n",
        "  var options = {\n",
        "    //bitsPerSecond: 8000, //chrome seems to ignore, always 48k\n",
        "    mimeType : 'audio/webm;codecs=opus'\n",
        "    //mimeType : 'audio/webm;codecs=pcm'\n",
        "  };\n",
        "  //recorder = new MediaRecorder(stream, options);\n",
        "  recorder = new MediaRecorder(stream);\n",
        "  recorder.mimeType = 'audio/wav';\n",
        "  recorder.ondataavailable = function(e) {\n",
        "    var url = URL.createObjectURL(e.data);\n",
        "    var preview = document.createElement('audio');\n",
        "    preview.controls = true;\n",
        "    preview.src = url;\n",
        "    document.body.appendChild(preview);\n",
        "\n",
        "    reader = new FileReader();\n",
        "    reader.readAsDataURL(e.data);\n",
        "    reader.onloadend = function() {\n",
        "      base64data = reader.result;\n",
        "      //console.log(\"Inside FileReader:\" + base64data);\n",
        "    }\n",
        "  };\n",
        "  recorder.start();\n",
        "  };\n",
        "\n",
        "recordButton.innerText = \"Clique para parar a gravação..\";\n",
        "\n",
        "navigator.mediaDevices.getUserMedia({audio: true}).then(handleSuccess);\n",
        "\n",
        "\n",
        "function toggleRecording() {\n",
        "  if (recorder && recorder.state == \"recording\") {\n",
        "      recorder.stop();\n",
        "      gumStream.getAudioTracks()[0].stop();\n",
        "      recordButton.innerText = \"Processando o áudio... por favor aguarde..\"\n",
        "  }\n",
        "}\n",
        "\n",
        "// https://stackoverflow.com/a/951057\n",
        "function sleep(ms) {\n",
        "  return new Promise(resolve => setTimeout(resolve, ms));\n",
        "}\n",
        "\n",
        "var data = new Promise(resolve=>{\n",
        "//recordButton.addEventListener(\"click\", toggleRecording);\n",
        "recordButton.onclick = ()=>{\n",
        "toggleRecording()\n",
        "\n",
        "sleep(2000).then(() => {\n",
        "  // wait 2000ms for the data to be available...\n",
        "  // ideally this should use something like await...\n",
        "  //console.log(\"Inside data:\" + base64data)\n",
        "  resolve(base64data.toString())\n",
        "\n",
        "});\n",
        "\n",
        "}\n",
        "});\n",
        "\n",
        "</script>\n",
        "\"\"\""
      ]
    },
    {
      "cell_type": "code",
      "execution_count": null,
      "metadata": {
        "id": "QWmPiRjEcCDt"
      },
      "outputs": [],
      "source": [
        "# Saudação inicial\n",
        "saudacoes = \"Bem-vindo ao canal de atendimento da empresa chamada FIAP. Como posso ajudar você?\"\n",
        "\n",
        "# Frases para oferecer as opções\n",
        "option_prompts = [\n",
        "    \"Para consulta ao saldo da conta, escolha opção 1.\",\n",
        "    \"Para simulação de compra internacional, escolha opção 2.\",\n",
        "    \"Para falar com um atendente, escolha opção 3.\",\n",
        "    \"Sair do atendimento, escolha opção 4.\"\n",
        "]\n",
        "\n",
        "# Responses com cada resposta\n",
        "responses = [\n",
        "     \"Você escolheu 'Consulta ao saldo da conta'.\",\n",
        "    \"Você escolheu 'Simulação de compra internacional'.\",\n",
        "    \"Você escolheu 'Falar com um atendente'.\",\n",
        "    \"Você escolheu 'Sair do atendimento'.\"\n",
        "]\n",
        "\n",
        "# Função para salvar áudio do microfone em um arquivo\n",
        "def save_audio_microphone(audio, filename):\n",
        "    # Escala o áudio para int16 antes de salvar\n",
        "    scaled = np.int16(audio/np.max(np.abs(audio)) * 32767)\n",
        "    # Salva o áudio no formato WAV\n",
        "    write(filename, 44100, scaled)\n",
        "\n",
        "# Função para realizar a transcrição de fala usando o Google Speech Recognition\n",
        "def stt_google(filename, mylang):\n",
        "    recog = sr.Recognizer()\n",
        "    with sr.AudioFile(filename) as source:\n",
        "        audio = recog.record(source)\n",
        "        rec_text = recog.recognize_google(audio, language=mylang)\n",
        "        return rec_text\n",
        "\n",
        "# Função para obter áudio do usuário, realizar a transcrição e retornar o texto\n",
        "def get_audio(lang):\n",
        "    # Exibe um botão no ambiente interativo para iniciar a gravação de áudio\n",
        "    display(HTML(AUDIO_HTML))\n",
        "\n",
        "    # Obtém os dados de áudio do ambiente interativo\n",
        "    data = eval_js(\"data\")\n",
        "    binary = b64decode(data.split(',')[1])\n",
        "\n",
        "    # Processa os dados de áudio usando a biblioteca ffmpeg\n",
        "    process = (ffmpeg\n",
        "        .input('pipe:0')\n",
        "        .output('pipe:1', format='wav')\n",
        "        .run_async(pipe_stdin=True, pipe_stdout=True, pipe_stderr=True, quiet=True, overwrite_output=True)\n",
        "    )\n",
        "    output, err = process.communicate(input=binary)\n",
        "\n",
        "    # Ajusta o cabeçalho WAV para garantir compatibilidade\n",
        "    riff_chunk_size = len(output) - 8\n",
        "    q = riff_chunk_size\n",
        "    b = []\n",
        "    for i in range(4):\n",
        "        q, r = divmod(q, 256)\n",
        "        b.append(r)\n",
        "    riff = output[:4] + bytes(b) + output[8:]\n",
        "\n",
        "    # Lê o áudio do arquivo WAV e salva em um arquivo local\n",
        "    s, audio = wav_read(io.BytesIO(riff))\n",
        "    filename = 'audio_microphone.wav'\n",
        "    save_audio_microphone(audio, filename)\n",
        "\n",
        "    # Realiza a transcrição de acordo com a biblioteca escolhida\n",
        "    texto = \"None\"\n",
        "    texto = stt_google(filename, lang)\n",
        "    return texto"
      ]
    },
    {
      "cell_type": "code",
      "execution_count": null,
      "metadata": {
        "id": "Vw6wx68iJIkQ"
      },
      "outputs": [],
      "source": [
        "def extrair(text):\n",
        "    numeros = re.findall(r'\\d+', text)\n",
        "    number_string = ''.join(numeros)\n",
        "    return number_string\n"
      ]
    },
    {
      "cell_type": "code",
      "execution_count": null,
      "metadata": {
        "colab": {
          "base_uri": "https://localhost:8080/",
          "height": 1000
        },
        "id": "M0hYWi41B1DL",
        "outputId": "fccc14ce-b348-4c0f-f898-f99e61320121"
      },
      "outputs": [],
      "source": [
        "#Inicializa a variável de controle do loop\n",
        "loop_break = 0\n",
        "\n",
        "#Loop principal\n",
        "while loop_break == 0:\n",
        "    #Gera a saudação inicial e a reproduz\n",
        "    tts = gTTS(saudacoes, lang='pt')\n",
        "    tts.save('bemvindo.wav')\n",
        "    sound_file = 'bemvindo.wav'\n",
        "    wn = Audio(sound_file, autoplay=True)\n",
        "    display(wn)\n",
        "    sleep(7)\n",
        "\n",
        "    #Loop para oferecer as opções\n",
        "    for mensagens in range(len(option_prompts)):\n",
        "        #Gera a mensagem da opção atual e a reproduz\n",
        "        tts = gTTS(option_prompts[mensagens], lang='pt')\n",
        "        tts.save('opcao.wav')\n",
        "        sound_file = 'opcao.wav'\n",
        "        wn = Audio(sound_file, autoplay=True)\n",
        "        sleep(6)\n",
        "        display(wn)\n",
        "\n",
        "    try:\n",
        "        #Aguarda 2 segundos antes de obter a opção escolhida pelo usuário através do áudio\n",
        "        sleep(2)\n",
        "        opcao_escolhida = get_audio(\"pt-BR\")\n",
        "        opcao_escolhida_n = extrair(opcao_escolhida)\n",
        "        sleep(2)\n",
        "\n",
        "        #Gera a mensagem correspondente à opção escolhida e a reproduz\n",
        "        tts = gTTS(responses[int(opcao_escolhida_n)-1], lang='pt')\n",
        "        tts.save('opcao_escolhida.wav')\n",
        "        sound_file = 'opcao_escolhida.wav'\n",
        "        wn = Audio(sound_file, autoplay=True)\n",
        "        display(wn)\n",
        "        sleep(6)\n",
        "        #Verifica se a opção escolhida é a de sair (opção 4)\n",
        "        if int(opcao_escolhida_n) == 4:\n",
        "            saida = \"Você saiu do canal de atendimento. Tenha um bom dia.\"\n",
        "            tts = gTTS(saida, lang='pt')\n",
        "            tts.save('saida.wav')\n",
        "            sound_file = 'saida.wav'\n",
        "            wn = Audio(sound_file, autoplay=True)\n",
        "            display(wn)\n",
        "            loop_break = -1  # Encerra o loop\n",
        "\n",
        "    except sr.UnknownValueError:\n",
        "        #Trata o caso em que nenhuma opção é identificada\n",
        "        recusa = \"Nenhuma opção identificada.\"\n",
        "        tts = gTTS(recusa, lang='pt')\n",
        "        tts.save('recusa.wav')\n",
        "        sound_file = 'recusa.wav'\n",
        "        wn = Audio(sound_file, autoplay=True)\n",
        "        display(wn)\n",
        "\n",
        "    except sr.RequestError as e:\n",
        "        #Trata o caso de erro na requisição do serviço de reconhecimento de fala\n",
        "        recusa = \"Erro na requisição do serviço de reconhecimento de fala.\"\n",
        "        tts = gTTS(recusa, lang='pt')\n",
        "        tts.save('recusa.wav')\n",
        "        sound_file = 'recusa.wav'\n",
        "        wn = Audio(sound_file, autoplay=True)\n",
        "        display(wn)\n",
        "\n",
        "    #Aguarda 10 segundos antes de reiniciar o loop\n",
        "    sleep(10)"
      ]
    }
  ],
  "metadata": {
    "colab": {
      "provenance": []
    },
    "kernelspec": {
      "display_name": "Python 3",
      "name": "python3"
    },
    "language_info": {
      "name": "python"
    }
  },
  "nbformat": 4,
  "nbformat_minor": 0
}
